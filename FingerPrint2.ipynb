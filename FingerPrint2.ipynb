{
  "cells": [
    {
      "cell_type": "code",
      "execution_count": 18,
      "metadata": {
        "id": "NUXqN2v3VLzN",
        "colab": {
          "base_uri": "https://localhost:8080/"
        },
        "outputId": "85e06381-d11b-4d89-de7e-4b00b7037d83"
      },
      "outputs": [
        {
          "output_type": "stream",
          "name": "stdout",
          "text": [
            "Drive already mounted at /content/drive; to attempt to forcibly remount, call drive.mount(\"/content/drive\", force_remount=True).\n"
          ]
        }
      ],
      "source": [
        "from google.colab import drive\n",
        "drive.mount('/content/drive')"
      ]
    },
    {
      "cell_type": "code",
      "execution_count": 19,
      "metadata": {
        "colab": {
          "base_uri": "https://localhost:8080/"
        },
        "id": "T1eeeONWVoXd",
        "outputId": "057ab63f-d878-449d-ea74-e327f653acd3"
      },
      "outputs": [
        {
          "output_type": "execute_result",
          "data": {
            "text/plain": [
              "['sanidhya photo.jpg',\n",
              " 'Classroom',\n",
              " 'Untitled spreadsheet.gsheet',\n",
              " 'DocScanner 9 Jun 2022 11-01 (1).pdf',\n",
              " 'WhatsApp Image 2022-12-11 at 5.45.23 PM.jpeg',\n",
              " 'WhatsApp Image 2022-12-11 at 6.05.46 PM.jpeg',\n",
              " 'Colab Notebooks',\n",
              " 'Document from Sanidhya Patel.pdf',\n",
              " 'Sanidhya aadhar card.pdf',\n",
              " 'WhatsApp Image 2023-07-19 at 1.52.34 PM.pdf',\n",
              " 'My Resume',\n",
              " '20118085_Sanidhyapatel.aac',\n",
              " 'WhatsApp Image 2023-11-07 at 11.25.51 AM (1).pdf',\n",
              " '20118085_Sanidhya_Sales dashboard.pdf',\n",
              " 'Sanidhya_Aadhar_Front.jpg',\n",
              " 'HIMYM',\n",
              " 'Certificate',\n",
              " \"Sanidhya's_Resume (2).pdf.pdf\",\n",
              " \"Sanidhya's_Resume (1).pdf.pdf\",\n",
              " 'Sanidhya_PAN.pdf.pdf',\n",
              " 'Screenshot 2024-06-10 135421.png',\n",
              " 'Sanidhya_Patel_Resume_2024 (14).pdf',\n",
              " 'Sanidhya_Patel_Resume_2024 (13).pdf',\n",
              " 'Sanidhya_Patel_Resume_2024 (12).pdf',\n",
              " 'Sanidhya_Patel_Resume_2024 (11).pdf',\n",
              " '20118085_Sanidhya_Resume.pdf.pdf',\n",
              " 'Sanidhya_Patel_Resume_2024 (10).pdf',\n",
              " 'Sanidhya_Patel_Resume_2024 (9).pdf',\n",
              " 'Sanidhya_Patel_Resume_2024 (8).pdf',\n",
              " 'Sanidhya_Patel_Resume_2024 (7).pdf',\n",
              " 'Sanidhya_Patel_Resume_2024 (6).pdf',\n",
              " 'Sanidhya_Patel_Resume_2024 (5).pdf',\n",
              " 'Sanidhya_Patel_Resume_2024 (4).pdf',\n",
              " 'Sanidhya_Patel_Resume_2024 (3).pdf',\n",
              " 'Sanidhya_Patel_Resume_2024 (2).pdf',\n",
              " 'Sanidhya_Patel_Resume_2024 (1).pdf',\n",
              " 'Sanidhya_Patel_Resume_2024.pdf',\n",
              " 'Python Assignment - RMgX.pdf',\n",
              " 'Untitled document.gdoc',\n",
              " 'Letter.gdoc',\n",
              " 'Sanidhya_Aadhar.jpeg',\n",
              " \"Sanidhya's_Resume.pdf.pdf\",\n",
              " 'T test PDF.gdoc',\n",
              " 'WhatsApp Image 2025-02-07 at 9.18.37 AM.jpeg',\n",
              " 'Mantra.pdf',\n",
              " 'Assigenmet1_05052025.zip',\n",
              " 'Assignment1.1.docx',\n",
              " 'Assignment1.0.docx',\n",
              " 'Blood_Group_Dataset',\n",
              " 'Blood_Group_Balanced']"
            ]
          },
          "metadata": {},
          "execution_count": 19
        }
      ],
      "source": [
        "import os\n",
        "\n",
        "# List everything in your MyDrive\n",
        "os.listdir('/content/drive/MyDrive')\n"
      ]
    },
    {
      "cell_type": "code",
      "execution_count": 20,
      "metadata": {
        "colab": {
          "base_uri": "https://localhost:8080/"
        },
        "id": "Kc0E80H1Vpm8",
        "outputId": "51cdb0a0-72ca-4ada-9eb9-921dd1bfd129"
      },
      "outputs": [
        {
          "output_type": "execute_result",
          "data": {
            "text/plain": [
              "['B-', 'A-', 'A+', 'AB+', 'O+', 'AB-', 'B+', 'O-']"
            ]
          },
          "metadata": {},
          "execution_count": 20
        }
      ],
      "source": [
        "os.listdir('/content/drive/MyDrive/Blood_Group_Dataset')\n"
      ]
    },
    {
      "cell_type": "code",
      "execution_count": 21,
      "metadata": {
        "colab": {
          "base_uri": "https://localhost:8080/"
        },
        "id": "IRhJM3XeVsak",
        "outputId": "d6210458-057f-4636-d19e-c7736b239317"
      },
      "outputs": [
        {
          "output_type": "stream",
          "name": "stdout",
          "text": [
            "Found 6000 files belonging to 8 classes.\n",
            "Classes: ['A+', 'A-', 'AB+', 'AB-', 'B+', 'B-', 'O+', 'O-']\n"
          ]
        }
      ],
      "source": [
        "import tensorflow as tf\n",
        "\n",
        "BATCH_SIZE = 32\n",
        "IMG_SIZE = (64, 64)\n",
        "\n",
        "dataset_path = '/content/drive/MyDrive/Blood_Group_Dataset'\n",
        "\n",
        "dataset = tf.keras.utils.image_dataset_from_directory(\n",
        "    dataset_path,\n",
        "    labels=\"inferred\",\n",
        "    label_mode=\"int\",\n",
        "    image_size=IMG_SIZE,\n",
        "    batch_size=BATCH_SIZE,\n",
        "    shuffle=True\n",
        ")\n",
        "\n",
        "print(\"Classes:\", dataset.class_names)"
      ]
    },
    {
      "cell_type": "code",
      "execution_count": 22,
      "metadata": {
        "colab": {
          "base_uri": "https://localhost:8080/"
        },
        "id": "KobGEa41WGDU",
        "outputId": "6a292eeb-a4ba-42af-a0c5-ef4dc843966f"
      },
      "outputs": [
        {
          "output_type": "stream",
          "name": "stdout",
          "text": [
            "Class Distribution:\n",
            "B-: 741\n",
            "A-: 1009\n",
            "A+: 565\n",
            "AB+: 708\n",
            "O+: 852\n",
            "AB-: 761\n",
            "B+: 652\n",
            "O-: 712\n"
          ]
        }
      ],
      "source": [
        "import os\n",
        "from collections import Counter\n",
        "\n",
        "dataset_path = \"/content/drive/MyDrive/Blood_Group_Dataset\"\n",
        "class_names = os.listdir(dataset_path)  # folders per class\n",
        "class_counts = {}\n",
        "\n",
        "for class_name in class_names:\n",
        "    class_folder = os.path.join(dataset_path, class_name)\n",
        "    count = len(os.listdir(class_folder))\n",
        "    class_counts[class_name] = count\n",
        "\n",
        "print(\"Class Distribution:\")\n",
        "for class_name, count in class_counts.items():\n",
        "    print(f\"{class_name}: {count}\")\n"
      ]
    },
    {
      "cell_type": "markdown",
      "source": [
        "Here performing oversampling of the data as the classes were not balanced, we can perform either undersampling or oversampling but as we have only 6000 dataset so cutting down the dataset would not be a wise decision."
      ],
      "metadata": {
        "id": "Xhv0XeCRnVZX"
      }
    },
    {
      "cell_type": "code",
      "execution_count": 23,
      "metadata": {
        "id": "XtRF6kXRWSE7"
      },
      "outputs": [],
      "source": [
        "def oversample_class(class_name, count, max_count):\n",
        "    # Convert class name to index if needed\n",
        "    class_idx = class_to_idx[class_name]\n",
        "\n",
        "    # Ensure dataset is unbatched\n",
        "    unbatched_dataset = dataset.unbatch()\n",
        "\n",
        "    # Filter dataset for the specific class\n",
        "    class_dataset = unbatched_dataset.filter(\n",
        "        lambda img, lbl: tf.equal(lbl, class_idx)\n",
        "    )\n",
        "\n",
        "    # Calculate repetitions needed\n",
        "    repeat_factor = max_count // count + (1 if max_count % count > 0 else 0)\n",
        "\n",
        "    # Repeat and take required number\n",
        "    return class_dataset.repeat(repeat_factor).take(max_count)"
      ]
    },
    {
      "cell_type": "code",
      "execution_count": 24,
      "metadata": {
        "colab": {
          "base_uri": "https://localhost:8080/",
          "height": 448
        },
        "id": "mGvoiD5rWtDs",
        "outputId": "fce7d824-561f-4eaf-ff40-b48c68691faa"
      },
      "outputs": [
        {
          "output_type": "stream",
          "name": "stdout",
          "text": [
            "Found 8072 files belonging to 8 classes.\n"
          ]
        },
        {
          "output_type": "display_data",
          "data": {
            "text/plain": [
              "<Figure size 640x480 with 1 Axes>"
            ],
            "image/png": "[encoded data removed]"
          },
          "metadata": {}
        }
      ],
      "source": [
        "from collections import Counter\n",
        "import matplotlib.pyplot as plt\n",
        "import tensorflow as tf\n",
        "import os\n",
        "\n",
        "# 1. Create dataset with proper labels\n",
        "dataset_path = \"/content/drive/MyDrive/Blood_Group_Balanced\"\n",
        "class_names = sorted(os.listdir(dataset_path))\n",
        "class_to_idx = {name: i for i, name in enumerate(class_names)}\n",
        "\n",
        "dataset = tf.keras.utils.image_dataset_from_directory(\n",
        "    dataset_path,\n",
        "    image_size=(64, 64),\n",
        "    batch_size=32,\n",
        "    label_mode='int',\n",
        "    class_names=class_names\n",
        ")\n",
        "\n",
        "# 2. Get class counts\n",
        "class_counts = Counter(int(lbl.numpy()) for _, lbl in dataset.unbatch())\n",
        "\n",
        "# 3. Oversampling function (updated)\n",
        "def oversample_class(class_idx, count, max_count):\n",
        "    unbatched_dataset = dataset.unbatch()\n",
        "    class_dataset = unbatched_dataset.filter(\n",
        "        lambda img, lbl: tf.equal(lbl, class_idx)\n",
        "    )\n",
        "    repeat_factor = max_count // count + (1 if max_count % count > 0 else 0)\n",
        "    return class_dataset.repeat(repeat_factor).take(max_count)\n",
        "\n",
        "# 4. Balance the dataset\n",
        "max_count = max(class_counts.values())\n",
        "balanced_datasets = []\n",
        "for class_idx, count in class_counts.items():\n",
        "    balanced_datasets.append(oversample_class(class_idx, count, max_count))\n",
        "\n",
        "# 5. Combine datasets\n",
        "balanced_dataset = tf.data.Dataset.sample_from_datasets(\n",
        "    balanced_datasets,\n",
        "    weights=[1./len(balanced_datasets)]*len(balanced_datasets),\n",
        "    seed=42\n",
        ")\n",
        "\n",
        "# 6. Verify balancing\n",
        "balanced_counts = Counter(int(lbl.numpy()) for _, lbl in balanced_dataset)\n",
        "plt.bar(class_names, [balanced_counts[i] for i in range(len(class_names))])\n",
        "plt.show()\n",
        "\n",
        "# 7. Batch for training\n",
        "BATCH_SIZE = 32\n",
        "balanced_dataset = balanced_dataset.batch(BATCH_SIZE)"
      ]
    },
    {
      "cell_type": "markdown",
      "source": [
        "Here as we can see now we have performed oversampling as well as balanced the data set upto 8072 and 1009 each"
      ],
      "metadata": {
        "id": "itexIVhxnz-O"
      }
    },
    {
      "cell_type": "code",
      "execution_count": 25,
      "metadata": {
        "colab": {
          "base_uri": "https://localhost:8080/",
          "height": 505
        },
        "id": "DFjktdstXw7v",
        "outputId": "4471cc29-2308-4c57-f07c-9d7714fd770a"
      },
      "outputs": [
        {
          "output_type": "display_data",
          "data": {
            "text/plain": [
              "<Figure size 1000x500 with 1 Axes>"
            ],
            "image/png": "[encoded data removed]"
          },
          "metadata": {}
        }
      ],
      "source": [
        "import matplotlib.pyplot as plt\n",
        "\n",
        "# Get counts\n",
        "class_counts = Counter(int(label.numpy()) for _, label in balanced_dataset.unbatch())\n",
        "\n",
        "# Plot\n",
        "plt.figure(figsize=(10, 5))\n",
        "plt.bar(class_names, [class_counts[i] for i in range(len(class_names))])\n",
        "plt.title(\"Class Distribution After Balancing\")\n",
        "plt.xlabel(\"Blood Group\")\n",
        "plt.ylabel(\"Number of Samples\")\n",
        "plt.xticks(rotation=45)\n",
        "for i, count in enumerate([class_counts[i] for i in range(len(class_names))]):\n",
        "    plt.text(i, count, str(count), ha='center', va='bottom')\n",
        "plt.show()"
      ]
    },
    {
      "cell_type": "markdown",
      "source": [
        "Here we divide the dataset into Training testing and validation dataset in the follwoing ratio Training 70% or 0.7  Testing 15% or 0.15 Validation 15% or 0.15 and then we projected the dataset belongs to each class"
      ],
      "metadata": {
        "id": "ksRZKbjxoG5m"
      }
    },
    {
      "cell_type": "code",
      "execution_count": 26,
      "metadata": {
        "colab": {
          "base_uri": "https://localhost:8080/"
        },
        "id": "PxrieTbteP5S",
        "outputId": "18e51376-65c8-4ab4-f21c-055a1b4cf60f"
      },
      "outputs": [
        {
          "output_type": "stream",
          "name": "stdout",
          "text": [
            "Training dataset: 176 batches (5632 samples)\n",
            "Validation dataset: 37 batches (1184 samples)\n",
            "Testing dataset: 37 batches (1184 samples)\n",
            "\n",
            "['A+', 'A-', 'AB+', 'AB-', 'B+', 'B-', 'O+', 'O-'] distribution in Training set:\n",
            "A+: 656 samples\n",
            "A-: 733 samples\n",
            "AB+: 737 samples\n",
            "AB-: 697 samples\n",
            "B+: 702 samples\n",
            "B-: 665 samples\n",
            "O+: 737 samples\n",
            "O-: 705 samples\n",
            "\n",
            "['A+', 'A-', 'AB+', 'AB-', 'B+', 'B-', 'O+', 'O-'] distribution in Validation set:\n",
            "A+: 127 samples\n",
            "A-: 158 samples\n",
            "AB+: 144 samples\n",
            "AB-: 144 samples\n",
            "B+: 146 samples\n",
            "B-: 148 samples\n",
            "O+: 162 samples\n",
            "O-: 155 samples\n",
            "\n",
            "['A+', 'A-', 'AB+', 'AB-', 'B+', 'B-', 'O+', 'O-'] distribution in Testing set:\n",
            "A+: 190 samples\n",
            "A-: 110 samples\n",
            "AB+: 124 samples\n",
            "AB-: 167 samples\n",
            "B+: 156 samples\n",
            "B-: 189 samples\n",
            "O+: 106 samples\n",
            "O-: 142 samples\n"
          ]
        }
      ],
      "source": [
        "# Constants\n",
        "BATCH_SIZE = 32\n",
        "train_ratio = 0.7  # 70% training\n",
        "val_ratio = 0.15    # 15% validation\n",
        "test_ratio = 0.15   # 15% test\n",
        "\n",
        "# 1. Unbatch the dataset\n",
        "balanced_dataset_unbatched = balanced_dataset.unbatch()\n",
        "\n",
        "# 2. Compute dataset sizes\n",
        "dataset_size = sum(1 for _ in balanced_dataset_unbatched)\n",
        "train_size = int(train_ratio * dataset_size)\n",
        "val_size = int(val_ratio * dataset_size)\n",
        "test_size = dataset_size - train_size - val_size  # Accounts for rounding\n",
        "\n",
        "# 3. Split the dataset\n",
        "train_dataset = balanced_dataset_unbatched.take(train_size)\n",
        "val_test_dataset = balanced_dataset_unbatched.skip(train_size)\n",
        "val_dataset = val_test_dataset.take(val_size)\n",
        "test_dataset = val_test_dataset.skip(val_size)\n",
        "\n",
        "# 4. Rebatch the datasets\n",
        "train_batches = train_dataset.batch(BATCH_SIZE, drop_remainder=True)\n",
        "val_batches = val_dataset.batch(BATCH_SIZE, drop_remainder=True)\n",
        "test_batches = test_dataset.batch(BATCH_SIZE, drop_remainder=True)\n",
        "\n",
        "# 5. Verify the splits\n",
        "def count_batches(dataset):\n",
        "    return sum(1 for _ in dataset)\n",
        "\n",
        "print(f\"Training dataset: {count_batches(train_batches)} batches ({count_batches(train_batches)*BATCH_SIZE} samples)\")\n",
        "print(f\"Validation dataset: {count_batches(val_batches)} batches ({count_batches(val_batches)*BATCH_SIZE} samples)\")\n",
        "print(f\"Testing dataset: {count_batches(test_batches)} batches ({count_batches(test_batches)*BATCH_SIZE} samples)\")\n",
        "\n",
        "# 6. Optional: Verify class distribution in each split\n",
        "def check_class_distribution(dataset, name):\n",
        "    class_dist = {i:0 for i in range(len(class_names))}\n",
        "    for _, labels in dataset.unbatch():\n",
        "        class_dist[labels.numpy()] += 1\n",
        "    print(f\"\\n{class_names} distribution in {name}:\")\n",
        "    for cls, count in class_dist.items():\n",
        "        print(f\"{class_names[cls]}: {count} samples\")\n",
        "\n",
        "check_class_distribution(train_batches, \"Training set\")\n",
        "check_class_distribution(val_batches, \"Validation set\")\n",
        "check_class_distribution(test_batches, \"Testing set\")"
      ]
    },
    {
      "cell_type": "markdown",
      "source": [
        "For Classification model i have used CNN and the number of layers i have used is 5 hiden layer and also the number of neurons i have used here is twice of the previous layer as you can see in the following code i.e 32 in First layer 64 in the second layer 128 in the third layer and so on and addition to that i have also used Dropout in each of the following layer as given below, it prevents the model to Overtrain also known as overfitting."
      ],
      "metadata": {
        "id": "hizC5XzNoxl4"
      }
    },
    {
      "cell_type": "code",
      "execution_count": 27,
      "metadata": {
        "colab": {
          "base_uri": "https://localhost:8080/",
          "height": 793
        },
        "id": "S4TQtbnVkcgR",
        "outputId": "5bdf1cdd-72eb-430c-db31-d70552735a98"
      },
      "outputs": [
        {
          "output_type": "stream",
          "name": "stderr",
          "text": [
            "/usr/local/lib/python3.11/dist-packages/keras/src/layers/convolutional/base_conv.py:107: UserWarning: Do not pass an `input_shape`/`input_dim` argument to a layer. When using Sequential models, prefer using an `Input(shape)` object as the first layer in the model instead.\n",
            "  super().__init__(activity_regularizer=activity_regularizer, **kwargs)\n"
          ]
        },
        {
          "output_type": "display_data",
          "data": {
            "text/plain": [
              "\u001b[1mModel: \"sequential\"\u001b[0m\n"
            ],
            "text/html": [
              "<pre style=\"white-space:pre;overflow-x:auto;line-height:normal;font-family:Menlo,'DejaVu Sans Mono',consolas,'Courier New',monospace\"><span style=\"font-weight: bold\">Model: \"sequential\"</span>\n",
              "</pre>\n"
            ]
          },
          "metadata": {}
        },
        {
          "output_type": "display_data",
          "data": {
            "text/plain": [
              "┏━━━━━━━━━━━━━━━━━━━━━━━━━━━━━━━━━┳━━━━━━━━━━━━━━━━━━━━━━━━┳━━━━━━━━━━━━━━━┓\n",
              "┃\u001b[1m \u001b[0m\u001b[1mLayer (type)                   \u001b[0m\u001b[1m \u001b[0m┃\u001b[1m \u001b[0m\u001b[1mOutput Shape          \u001b[0m\u001b[1m \u001b[0m┃\u001b[1m \u001b[0m\u001b[1m      Param #\u001b[0m\u001b[1m \u001b[0m┃\n",
              "┡━━━━━━━━━━━━━━━━━━━━━━━━━━━━━━━━━╇━━━━━━━━━━━━━━━━━━━━━━━━╇━━━━━━━━━━━━━━━┩\n",
              "│ conv2d (\u001b[38;5;33mConv2D\u001b[0m)                 │ (\u001b[38;5;45mNone\u001b[0m, \u001b[38;5;34m64\u001b[0m, \u001b[38;5;34m64\u001b[0m, \u001b[38;5;34m32\u001b[0m)     │           \u001b[38;5;34m896\u001b[0m │\n",
              "├─────────────────────────────────┼────────────────────────┼───────────────┤\n",
              "│ max_pooling2d (\u001b[38;5;33mMaxPooling2D\u001b[0m)    │ (\u001b[38;5;45mNone\u001b[0m, \u001b[38;5;34m32\u001b[0m, \u001b[38;5;34m32\u001b[0m, \u001b[38;5;34m32\u001b[0m)     │             \u001b[38;5;34m0\u001b[0m │\n",
              "├─────────────────────────────────┼────────────────────────┼───────────────┤\n",
              "│ dropout (\u001b[38;5;33mDropout\u001b[0m)               │ (\u001b[38;5;45mNone\u001b[0m, \u001b[38;5;34m32\u001b[0m, \u001b[38;5;34m32\u001b[0m, \u001b[38;5;34m32\u001b[0m)     │             \u001b[38;5;34m0\u001b[0m │\n",
              "├─────────────────────────────────┼────────────────────────┼───────────────┤\n",
              "│ conv2d_1 (\u001b[38;5;33mConv2D\u001b[0m)               │ (\u001b[38;5;45mNone\u001b[0m, \u001b[38;5;34m32\u001b[0m, \u001b[38;5;34m32\u001b[0m, \u001b[38;5;34m64\u001b[0m)     │        \u001b[38;5;34m18,496\u001b[0m │\n",
              "├─────────────────────────────────┼────────────────────────┼───────────────┤\n",
              "│ max_pooling2d_1 (\u001b[38;5;33mMaxPooling2D\u001b[0m)  │ (\u001b[38;5;45mNone\u001b[0m, \u001b[38;5;34m16\u001b[0m, \u001b[38;5;34m16\u001b[0m, \u001b[38;5;34m64\u001b[0m)     │             \u001b[38;5;34m0\u001b[0m │\n",
              "├─────────────────────────────────┼────────────────────────┼───────────────┤\n",
              "│ dropout_1 (\u001b[38;5;33mDropout\u001b[0m)             │ (\u001b[38;5;45mNone\u001b[0m, \u001b[38;5;34m16\u001b[0m, \u001b[38;5;34m16\u001b[0m, \u001b[38;5;34m64\u001b[0m)     │             \u001b[38;5;34m0\u001b[0m │\n",
              "├─────────────────────────────────┼────────────────────────┼───────────────┤\n",
              "│ conv2d_2 (\u001b[38;5;33mConv2D\u001b[0m)               │ (\u001b[38;5;45mNone\u001b[0m, \u001b[38;5;34m16\u001b[0m, \u001b[38;5;34m16\u001b[0m, \u001b[38;5;34m128\u001b[0m)    │        \u001b[38;5;34m73,856\u001b[0m │\n",
              "├─────────────────────────────────┼────────────────────────┼───────────────┤\n",
              "│ max_pooling2d_2 (\u001b[38;5;33mMaxPooling2D\u001b[0m)  │ (\u001b[38;5;45mNone\u001b[0m, \u001b[38;5;34m8\u001b[0m, \u001b[38;5;34m8\u001b[0m, \u001b[38;5;34m128\u001b[0m)      │             \u001b[38;5;34m0\u001b[0m │\n",
              "├─────────────────────────────────┼────────────────────────┼───────────────┤\n",
              "│ dropout_2 (\u001b[38;5;33mDropout\u001b[0m)             │ (\u001b[38;5;45mNone\u001b[0m, \u001b[38;5;34m8\u001b[0m, \u001b[38;5;34m8\u001b[0m, \u001b[38;5;34m128\u001b[0m)      │             \u001b[38;5;34m0\u001b[0m │\n",
              "├─────────────────────────────────┼────────────────────────┼───────────────┤\n",
              "│ conv2d_3 (\u001b[38;5;33mConv2D\u001b[0m)               │ (\u001b[38;5;45mNone\u001b[0m, \u001b[38;5;34m8\u001b[0m, \u001b[38;5;34m8\u001b[0m, \u001b[38;5;34m256\u001b[0m)      │       \u001b[38;5;34m295,168\u001b[0m │\n",
              "├─────────────────────────────────┼────────────────────────┼───────────────┤\n",
              "│ max_pooling2d_3 (\u001b[38;5;33mMaxPooling2D\u001b[0m)  │ (\u001b[38;5;45mNone\u001b[0m, \u001b[38;5;34m4\u001b[0m, \u001b[38;5;34m4\u001b[0m, \u001b[38;5;34m256\u001b[0m)      │             \u001b[38;5;34m0\u001b[0m │\n",
              "├─────────────────────────────────┼────────────────────────┼───────────────┤\n",
              "│ dropout_3 (\u001b[38;5;33mDropout\u001b[0m)             │ (\u001b[38;5;45mNone\u001b[0m, \u001b[38;5;34m4\u001b[0m, \u001b[38;5;34m4\u001b[0m, \u001b[38;5;34m256\u001b[0m)      │             \u001b[38;5;34m0\u001b[0m │\n",
              "├─────────────────────────────────┼────────────────────────┼───────────────┤\n",
              "│ conv2d_4 (\u001b[38;5;33mConv2D\u001b[0m)               │ (\u001b[38;5;45mNone\u001b[0m, \u001b[38;5;34m4\u001b[0m, \u001b[38;5;34m4\u001b[0m, \u001b[38;5;34m512\u001b[0m)      │     \u001b[38;5;34m1,180,160\u001b[0m │\n",
              "├─────────────────────────────────┼────────────────────────┼───────────────┤\n",
              "│ max_pooling2d_4 (\u001b[38;5;33mMaxPooling2D\u001b[0m)  │ (\u001b[38;5;45mNone\u001b[0m, \u001b[38;5;34m2\u001b[0m, \u001b[38;5;34m2\u001b[0m, \u001b[38;5;34m512\u001b[0m)      │             \u001b[38;5;34m0\u001b[0m │\n",
              "├─────────────────────────────────┼────────────────────────┼───────────────┤\n",
              "│ dropout_4 (\u001b[38;5;33mDropout\u001b[0m)             │ (\u001b[38;5;45mNone\u001b[0m, \u001b[38;5;34m2\u001b[0m, \u001b[38;5;34m2\u001b[0m, \u001b[38;5;34m512\u001b[0m)      │             \u001b[38;5;34m0\u001b[0m │\n",
              "├─────────────────────────────────┼────────────────────────┼───────────────┤\n",
              "│ flatten (\u001b[38;5;33mFlatten\u001b[0m)               │ (\u001b[38;5;45mNone\u001b[0m, \u001b[38;5;34m2048\u001b[0m)           │             \u001b[38;5;34m0\u001b[0m │\n",
              "├─────────────────────────────────┼────────────────────────┼───────────────┤\n",
              "│ dense (\u001b[38;5;33mDense\u001b[0m)                   │ (\u001b[38;5;45mNone\u001b[0m, \u001b[38;5;34m1024\u001b[0m)           │     \u001b[38;5;34m2,098,176\u001b[0m │\n",
              "├─────────────────────────────────┼────────────────────────┼───────────────┤\n",
              "│ dropout_5 (\u001b[38;5;33mDropout\u001b[0m)             │ (\u001b[38;5;45mNone\u001b[0m, \u001b[38;5;34m1024\u001b[0m)           │             \u001b[38;5;34m0\u001b[0m │\n",
              "├─────────────────────────────────┼────────────────────────┼───────────────┤\n",
              "│ dense_1 (\u001b[38;5;33mDense\u001b[0m)                 │ (\u001b[38;5;45mNone\u001b[0m, \u001b[38;5;34m8\u001b[0m)              │         \u001b[38;5;34m8,200\u001b[0m │\n",
              "└─────────────────────────────────┴────────────────────────┴───────────────┘\n"
            ],
            "text/html": [
              "<pre style=\"white-space:pre;overflow-x:auto;line-height:normal;font-family:Menlo,'DejaVu Sans Mono',consolas,'Courier New',monospace\">┏━━━━━━━━━━━━━━━━━━━━━━━━━━━━━━━━━┳━━━━━━━━━━━━━━━━━━━━━━━━┳━━━━━━━━━━━━━━━┓\n",
              "┃<span style=\"font-weight: bold\"> Layer (type)                    </span>┃<span style=\"font-weight: bold\"> Output Shape           </span>┃<span style=\"font-weight: bold\">       Param # </span>┃\n",
              "┡━━━━━━━━━━━━━━━━━━━━━━━━━━━━━━━━━╇━━━━━━━━━━━━━━━━━━━━━━━━╇━━━━━━━━━━━━━━━┩\n",
              "│ conv2d (<span style=\"color: #0087ff; text-decoration-color: #0087ff\">Conv2D</span>)                 │ (<span style=\"color: #00d7ff; text-decoration-color: #00d7ff\">None</span>, <span style=\"color: #00af00; text-decoration-color: #00af00\">64</span>, <span style=\"color: #00af00; text-decoration-color: #00af00\">64</span>, <span style=\"color: #00af00; text-decoration-color: #00af00\">32</span>)     │           <span style=\"color: #00af00; text-decoration-color: #00af00\">896</span> │\n",
              "├─────────────────────────────────┼────────────────────────┼───────────────┤\n",
              "│ max_pooling2d (<span style=\"color: #0087ff; text-decoration-color: #0087ff\">MaxPooling2D</span>)    │ (<span style=\"color: #00d7ff; text-decoration-color: #00d7ff\">None</span>, <span style=\"color: #00af00; text-decoration-color: #00af00\">32</span>, <span style=\"color: #00af00; text-decoration-color: #00af00\">32</span>, <span style=\"color: #00af00; text-decoration-color: #00af00\">32</span>)     │             <span style=\"color: #00af00; text-decoration-color: #00af00\">0</span> │\n",
              "├─────────────────────────────────┼────────────────────────┼───────────────┤\n",
              "│ dropout (<span style=\"color: #0087ff; text-decoration-color: #0087ff\">Dropout</span>)               │ (<span style=\"color: #00d7ff; text-decoration-color: #00d7ff\">None</span>, <span style=\"color: #00af00; text-decoration-color: #00af00\">32</span>, <span style=\"color: #00af00; text-decoration-color: #00af00\">32</span>, <span style=\"color: #00af00; text-decoration-color: #00af00\">32</span>)     │             <span style=\"color: #00af00; text-decoration-color: #00af00\">0</span> │\n",
              "├─────────────────────────────────┼────────────────────────┼───────────────┤\n",
              "│ conv2d_1 (<span style=\"color: #0087ff; text-decoration-color: #0087ff\">Conv2D</span>)               │ (<span style=\"color: #00d7ff; text-decoration-color: #00d7ff\">None</span>, <span style=\"color: #00af00; text-decoration-color: #00af00\">32</span>, <span style=\"color: #00af00; text-decoration-color: #00af00\">32</span>, <span style=\"color: #00af00; text-decoration-color: #00af00\">64</span>)     │        <span style=\"color: #00af00; text-decoration-color: #00af00\">18,496</span> │\n",
              "├─────────────────────────────────┼────────────────────────┼───────────────┤\n",
              "│ max_pooling2d_1 (<span style=\"color: #0087ff; text-decoration-color: #0087ff\">MaxPooling2D</span>)  │ (<span style=\"color: #00d7ff; text-decoration-color: #00d7ff\">None</span>, <span style=\"color: #00af00; text-decoration-color: #00af00\">16</span>, <span style=\"color: #00af00; text-decoration-color: #00af00\">16</span>, <span style=\"color: #00af00; text-decoration-color: #00af00\">64</span>)     │             <span style=\"color: #00af00; text-decoration-color: #00af00\">0</span> │\n",
              "├─────────────────────────────────┼────────────────────────┼───────────────┤\n",
              "│ dropout_1 (<span style=\"color: #0087ff; text-decoration-color: #0087ff\">Dropout</span>)             │ (<span style=\"color: #00d7ff; text-decoration-color: #00d7ff\">None</span>, <span style=\"color: #00af00; text-decoration-color: #00af00\">16</span>, <span style=\"color: #00af00; text-decoration-color: #00af00\">16</span>, <span style=\"color: #00af00; text-decoration-color: #00af00\">64</span>)     │             <span style=\"color: #00af00; text-decoration-color: #00af00\">0</span> │\n",
              "├─────────────────────────────────┼────────────────────────┼───────────────┤\n",
              "│ conv2d_2 (<span style=\"color: #0087ff; text-decoration-color: #0087ff\">Conv2D</span>)               │ (<span style=\"color: #00d7ff; text-decoration-color: #00d7ff\">None</span>, <span style=\"color: #00af00; text-decoration-color: #00af00\">16</span>, <span style=\"color: #00af00; text-decoration-color: #00af00\">16</span>, <span style=\"color: #00af00; text-decoration-color: #00af00\">128</span>)    │        <span style=\"color: #00af00; text-decoration-color: #00af00\">73,856</span> │\n",
              "├─────────────────────────────────┼────────────────────────┼───────────────┤\n",
              "│ max_pooling2d_2 (<span style=\"color: #0087ff; text-decoration-color: #0087ff\">MaxPooling2D</span>)  │ (<span style=\"color: #00d7ff; text-decoration-color: #00d7ff\">None</span>, <span style=\"color: #00af00; text-decoration-color: #00af00\">8</span>, <span style=\"color: #00af00; text-decoration-color: #00af00\">8</span>, <span style=\"color: #00af00; text-decoration-color: #00af00\">128</span>)      │             <span style=\"color: #00af00; text-decoration-color: #00af00\">0</span> │\n",
              "├─────────────────────────────────┼────────────────────────┼───────────────┤\n",
              "│ dropout_2 (<span style=\"color: #0087ff; text-decoration-color: #0087ff\">Dropout</span>)             │ (<span style=\"color: #00d7ff; text-decoration-color: #00d7ff\">None</span>, <span style=\"color: #00af00; text-decoration-color: #00af00\">8</span>, <span style=\"color: #00af00; text-decoration-color: #00af00\">8</span>, <span style=\"color: #00af00; text-decoration-color: #00af00\">128</span>)      │             <span style=\"color: #00af00; text-decoration-color: #00af00\">0</span> │\n",
              "├─────────────────────────────────┼────────────────────────┼───────────────┤\n",
              "│ conv2d_3 (<span style=\"color: #0087ff; text-decoration-color: #0087ff\">Conv2D</span>)               │ (<span style=\"color: #00d7ff; text-decoration-color: #00d7ff\">None</span>, <span style=\"color: #00af00; text-decoration-color: #00af00\">8</span>, <span style=\"color: #00af00; text-decoration-color: #00af00\">8</span>, <span style=\"color: #00af00; text-decoration-color: #00af00\">256</span>)      │       <span style=\"color: #00af00; text-decoration-color: #00af00\">295,168</span> │\n",
              "├─────────────────────────────────┼────────────────────────┼───────────────┤\n",
              "│ max_pooling2d_3 (<span style=\"color: #0087ff; text-decoration-color: #0087ff\">MaxPooling2D</span>)  │ (<span style=\"color: #00d7ff; text-decoration-color: #00d7ff\">None</span>, <span style=\"color: #00af00; text-decoration-color: #00af00\">4</span>, <span style=\"color: #00af00; text-decoration-color: #00af00\">4</span>, <span style=\"color: #00af00; text-decoration-color: #00af00\">256</span>)      │             <span style=\"color: #00af00; text-decoration-color: #00af00\">0</span> │\n",
              "├─────────────────────────────────┼────────────────────────┼───────────────┤\n",
              "│ dropout_3 (<span style=\"color: #0087ff; text-decoration-color: #0087ff\">Dropout</span>)             │ (<span style=\"color: #00d7ff; text-decoration-color: #00d7ff\">None</span>, <span style=\"color: #00af00; text-decoration-color: #00af00\">4</span>, <span style=\"color: #00af00; text-decoration-color: #00af00\">4</span>, <span style=\"color: #00af00; text-decoration-color: #00af00\">256</span>)      │             <span style=\"color: #00af00; text-decoration-color: #00af00\">0</span> │\n",
              "├─────────────────────────────────┼────────────────────────┼───────────────┤\n",
              "│ conv2d_4 (<span style=\"color: #0087ff; text-decoration-color: #0087ff\">Conv2D</span>)               │ (<span style=\"color: #00d7ff; text-decoration-color: #00d7ff\">None</span>, <span style=\"color: #00af00; text-decoration-color: #00af00\">4</span>, <span style=\"color: #00af00; text-decoration-color: #00af00\">4</span>, <span style=\"color: #00af00; text-decoration-color: #00af00\">512</span>)      │     <span style=\"color: #00af00; text-decoration-color: #00af00\">1,180,160</span> │\n",
              "├─────────────────────────────────┼────────────────────────┼───────────────┤\n",
              "│ max_pooling2d_4 (<span style=\"color: #0087ff; text-decoration-color: #0087ff\">MaxPooling2D</span>)  │ (<span style=\"color: #00d7ff; text-decoration-color: #00d7ff\">None</span>, <span style=\"color: #00af00; text-decoration-color: #00af00\">2</span>, <span style=\"color: #00af00; text-decoration-color: #00af00\">2</span>, <span style=\"color: #00af00; text-decoration-color: #00af00\">512</span>)      │             <span style=\"color: #00af00; text-decoration-color: #00af00\">0</span> │\n",
              "├─────────────────────────────────┼────────────────────────┼───────────────┤\n",
              "│ dropout_4 (<span style=\"color: #0087ff; text-decoration-color: #0087ff\">Dropout</span>)             │ (<span style=\"color: #00d7ff; text-decoration-color: #00d7ff\">None</span>, <span style=\"color: #00af00; text-decoration-color: #00af00\">2</span>, <span style=\"color: #00af00; text-decoration-color: #00af00\">2</span>, <span style=\"color: #00af00; text-decoration-color: #00af00\">512</span>)      │             <span style=\"color: #00af00; text-decoration-color: #00af00\">0</span> │\n",
              "├─────────────────────────────────┼────────────────────────┼───────────────┤\n",
              "│ flatten (<span style=\"color: #0087ff; text-decoration-color: #0087ff\">Flatten</span>)               │ (<span style=\"color: #00d7ff; text-decoration-color: #00d7ff\">None</span>, <span style=\"color: #00af00; text-decoration-color: #00af00\">2048</span>)           │             <span style=\"color: #00af00; text-decoration-color: #00af00\">0</span> │\n",
              "├─────────────────────────────────┼────────────────────────┼───────────────┤\n",
              "│ dense (<span style=\"color: #0087ff; text-decoration-color: #0087ff\">Dense</span>)                   │ (<span style=\"color: #00d7ff; text-decoration-color: #00d7ff\">None</span>, <span style=\"color: #00af00; text-decoration-color: #00af00\">1024</span>)           │     <span style=\"color: #00af00; text-decoration-color: #00af00\">2,098,176</span> │\n",
              "├─────────────────────────────────┼────────────────────────┼───────────────┤\n",
              "│ dropout_5 (<span style=\"color: #0087ff; text-decoration-color: #0087ff\">Dropout</span>)             │ (<span style=\"color: #00d7ff; text-decoration-color: #00d7ff\">None</span>, <span style=\"color: #00af00; text-decoration-color: #00af00\">1024</span>)           │             <span style=\"color: #00af00; text-decoration-color: #00af00\">0</span> │\n",
              "├─────────────────────────────────┼────────────────────────┼───────────────┤\n",
              "│ dense_1 (<span style=\"color: #0087ff; text-decoration-color: #0087ff\">Dense</span>)                 │ (<span style=\"color: #00d7ff; text-decoration-color: #00d7ff\">None</span>, <span style=\"color: #00af00; text-decoration-color: #00af00\">8</span>)              │         <span style=\"color: #00af00; text-decoration-color: #00af00\">8,200</span> │\n",
              "└─────────────────────────────────┴────────────────────────┴───────────────┘\n",
              "</pre>\n"
            ]
          },
          "metadata": {}
        },
        {
          "output_type": "display_data",
          "data": {
            "text/plain": [
              "\u001b[1m Total params: \u001b[0m\u001b[38;5;34m3,674,952\u001b[0m (14.02 MB)\n"
            ],
            "text/html": [
              "<pre style=\"white-space:pre;overflow-x:auto;line-height:normal;font-family:Menlo,'DejaVu Sans Mono',consolas,'Courier New',monospace\"><span style=\"font-weight: bold\"> Total params: </span><span style=\"color: #00af00; text-decoration-color: #00af00\">3,674,952</span> (14.02 MB)\n",
              "</pre>\n"
            ]
          },
          "metadata": {}
        },
        {
          "output_type": "display_data",
          "data": {
            "text/plain": [
              "\u001b[1m Trainable params: \u001b[0m\u001b[38;5;34m3,674,952\u001b[0m (14.02 MB)\n"
            ],
            "text/html": [
              "<pre style=\"white-space:pre;overflow-x:auto;line-height:normal;font-family:Menlo,'DejaVu Sans Mono',consolas,'Courier New',monospace\"><span style=\"font-weight: bold\"> Trainable params: </span><span style=\"color: #00af00; text-decoration-color: #00af00\">3,674,952</span> (14.02 MB)\n",
              "</pre>\n"
            ]
          },
          "metadata": {}
        },
        {
          "output_type": "display_data",
          "data": {
            "text/plain": [
              "\u001b[1m Non-trainable params: \u001b[0m\u001b[38;5;34m0\u001b[0m (0.00 B)\n"
            ],
            "text/html": [
              "<pre style=\"white-space:pre;overflow-x:auto;line-height:normal;font-family:Menlo,'DejaVu Sans Mono',consolas,'Courier New',monospace\"><span style=\"font-weight: bold\"> Non-trainable params: </span><span style=\"color: #00af00; text-decoration-color: #00af00\">0</span> (0.00 B)\n",
              "</pre>\n"
            ]
          },
          "metadata": {}
        }
      ],
      "source": [
        "def create_high_accuracy_model():\n",
        "    model = tf.keras.models.Sequential([\n",
        "        # First Conv Block\n",
        "        tf.keras.layers.Conv2D(32, (3, 3), activation='relu', padding='same', input_shape=(64, 64, 3)),\n",
        "        tf.keras.layers.MaxPooling2D(2, 2),\n",
        "        tf.keras.layers.Dropout(0.3),\n",
        "\n",
        "        # Second Conv Block\n",
        "        tf.keras.layers.Conv2D(64, (3, 3), activation='relu', padding='same'),\n",
        "        tf.keras.layers.MaxPooling2D(2, 2),\n",
        "        tf.keras.layers.Dropout(0.4),\n",
        "\n",
        "        # Third Conv Block\n",
        "        tf.keras.layers.Conv2D(128, (3, 3), activation='relu', padding='same'),\n",
        "        tf.keras.layers.MaxPooling2D(2, 2),\n",
        "        tf.keras.layers.Dropout(0.4),\n",
        "\n",
        "        # Fourth Conv Block\n",
        "        tf.keras.layers.Conv2D(256, (3, 3), activation='relu', padding='same'),\n",
        "        tf.keras.layers.MaxPooling2D(2, 2),\n",
        "        tf.keras.layers.Dropout(0.4),\n",
        "\n",
        "        # Fifth Conv Block\n",
        "        tf.keras.layers.Conv2D(512, (3, 3), activation='relu', padding='same'),\n",
        "        tf.keras.layers.MaxPooling2D(2, 2),\n",
        "        tf.keras.layers.Dropout(0.5),\n",
        "\n",
        "        # Flatten and Dense Layers\n",
        "        tf.keras.layers.Flatten(),\n",
        "        tf.keras.layers.Dense(1024, activation='relu'),\n",
        "        tf.keras.layers.Dropout(0.5),\n",
        "\n",
        "        # Output Layer\n",
        "        tf.keras.layers.Dense(len(class_names), activation='softmax')\n",
        "    ])\n",
        "\n",
        "    model.compile(optimizer='adam',\n",
        "                 loss='sparse_categorical_crossentropy',\n",
        "                 metrics=['accuracy'])\n",
        "\n",
        "    return model\n",
        "\n",
        "# Create the model\n",
        "high_acc_model = create_high_accuracy_model()\n",
        "high_acc_model.summary()"
      ]
    },
    {
      "cell_type": "markdown",
      "source": [
        "Here i have used two call back function ReduceLROnPleateau, to avoid hitting the plateau once it hit the plateau it will reduce the learning-rate by 0.5  and the second callback is EarlyStopping once there is no improving in accurracy it will will stop so it doesn't unncessary resource(CPU , GPU) utlization."
      ],
      "metadata": {
        "id": "OjiYuM6ZpsdX"
      }
    },
    {
      "cell_type": "code",
      "execution_count": 28,
      "metadata": {
        "id": "P07-VOVekkZh"
      },
      "outputs": [],
      "source": [
        "from tensorflow.keras.callbacks import ReduceLROnPlateau, EarlyStopping\n",
        "\n",
        "callbacks = [\n",
        "    ReduceLROnPlateau(monitor='val_loss', factor=0.5, patience=3),\n",
        "    EarlyStopping(monitor='val_loss', patience=5, restore_best_weights=True)\n",
        "]"
      ]
    },
    {
      "cell_type": "code",
      "execution_count": 29,
      "metadata": {
        "colab": {
          "base_uri": "https://localhost:8080/",
          "height": 1000
        },
        "id": "UfVzxWKCk1Gx",
        "outputId": "4ab54ba2-5725-4303-f874-0d45e2434da3"
      },
      "outputs": [
        {
          "output_type": "stream",
          "name": "stdout",
          "text": [
            "Epoch 1/22\n",
            "    176/Unknown \u001b[1m226s\u001b[0m 1s/step - accuracy: 0.1264 - loss: 30.4811"
          ]
        },
        {
          "output_type": "stream",
          "name": "stderr",
          "text": [
            "/usr/local/lib/python3.11/dist-packages/keras/src/trainers/epoch_iterator.py:151: UserWarning: Your input ran out of data; interrupting training. Make sure that your dataset or generator can generate at least `steps_per_epoch * epochs` batches. You may need to use the `.repeat()` function when building your dataset.\n",
            "  self._interrupted_warning()\n"
          ]
        },
        {
          "output_type": "stream",
          "name": "stdout",
          "text": [
            "\b\b\b\b\b\b\b\b\b\b\b\b\b\b\b\b\b\b\b\b\b\b\b\b\b\b\b\b\b\b\b\b\b\b\b\b\b\b\b\b\b\b\b\b\b\b\b\b\b\b\b\b\b\b\b\b\b\b\b\b\b\b\b\r\u001b[1m176/176\u001b[0m \u001b[32m━━━━━━━━━━━━━━━━━━━━\u001b[0m\u001b[37m\u001b[0m \u001b[1m419s\u001b[0m 2s/step - accuracy: 0.1264 - loss: 30.3561 - val_accuracy: 0.1201 - val_loss: 2.0203 - learning_rate: 0.0010\n",
            "Epoch 2/22\n",
            "\u001b[1m176/176\u001b[0m \u001b[32m━━━━━━━━━━━━━━━━━━━━\u001b[0m\u001b[37m\u001b[0m \u001b[1m415s\u001b[0m 2s/step - accuracy: 0.2054 - loss: 1.9872 - val_accuracy: 0.2089 - val_loss: 1.9807 - learning_rate: 0.0010\n",
            "Epoch 3/22\n",
            "\u001b[1m176/176\u001b[0m \u001b[32m━━━━━━━━━━━━━━━━━━━━\u001b[0m\u001b[37m\u001b[0m \u001b[1m423s\u001b[0m 2s/step - accuracy: 0.3054 - loss: 1.7797 - val_accuracy: 0.2648 - val_loss: 1.8862 - learning_rate: 0.0010\n",
            "Epoch 4/22\n",
            "\u001b[1m176/176\u001b[0m \u001b[32m━━━━━━━━━━━━━━━━━━━━\u001b[0m\u001b[37m\u001b[0m \u001b[1m430s\u001b[0m 2s/step - accuracy: 0.3853 - loss: 1.5933 - val_accuracy: 0.4688 - val_loss: 1.5282 - learning_rate: 0.0010\n",
            "Epoch 5/22\n",
            "\u001b[1m176/176\u001b[0m \u001b[32m━━━━━━━━━━━━━━━━━━━━\u001b[0m\u001b[37m\u001b[0m \u001b[1m509s\u001b[0m 3s/step - accuracy: 0.5513 - loss: 1.2036 - val_accuracy: 0.5263 - val_loss: 1.3222 - learning_rate: 0.0010\n",
            "Epoch 6/22\n",
            "\u001b[1m176/176\u001b[0m \u001b[32m━━━━━━━━━━━━━━━━━━━━\u001b[0m\u001b[37m\u001b[0m \u001b[1m483s\u001b[0m 2s/step - accuracy: 0.6337 - loss: 0.9875 - val_accuracy: 0.4720 - val_loss: 1.3401 - learning_rate: 0.0010\n",
            "Epoch 7/22\n",
            "\u001b[1m176/176\u001b[0m \u001b[32m━━━━━━━━━━━━━━━━━━━━\u001b[0m\u001b[37m\u001b[0m \u001b[1m451s\u001b[0m 3s/step - accuracy: 0.6793 - loss: 0.8790 - val_accuracy: 0.6752 - val_loss: 1.0891 - learning_rate: 0.0010\n",
            "Epoch 8/22\n",
            "\u001b[1m176/176\u001b[0m \u001b[32m━━━━━━━━━━━━━━━━━━━━\u001b[0m\u001b[37m\u001b[0m \u001b[1m434s\u001b[0m 2s/step - accuracy: 0.6982 - loss: 0.8369 - val_accuracy: 0.6982 - val_loss: 1.0191 - learning_rate: 0.0010\n",
            "Epoch 9/22\n",
            "\u001b[1m176/176\u001b[0m \u001b[32m━━━━━━━━━━━━━━━━━━━━\u001b[0m\u001b[37m\u001b[0m \u001b[1m434s\u001b[0m 2s/step - accuracy: 0.7225 - loss: 0.7472 - val_accuracy: 0.7377 - val_loss: 0.8750 - learning_rate: 0.0010\n",
            "Epoch 10/22\n",
            "\u001b[1m176/176\u001b[0m \u001b[32m━━━━━━━━━━━━━━━━━━━━\u001b[0m\u001b[37m\u001b[0m \u001b[1m441s\u001b[0m 2s/step - accuracy: 0.7341 - loss: 0.7244 - val_accuracy: 0.7582 - val_loss: 0.7778 - learning_rate: 0.0010\n",
            "Epoch 11/22\n",
            "\u001b[1m176/176\u001b[0m \u001b[32m━━━━━━━━━━━━━━━━━━━━\u001b[0m\u001b[37m\u001b[0m \u001b[1m440s\u001b[0m 2s/step - accuracy: 0.7581 - loss: 0.6782 - val_accuracy: 0.7434 - val_loss: 0.8256 - learning_rate: 0.0010\n",
            "Epoch 12/22\n",
            "\u001b[1m176/176\u001b[0m \u001b[32m━━━━━━━━━━━━━━━━━━━━\u001b[0m\u001b[37m\u001b[0m \u001b[1m443s\u001b[0m 3s/step - accuracy: 0.7687 - loss: 0.6413 - val_accuracy: 0.7788 - val_loss: 0.7957 - learning_rate: 0.0010\n",
            "Epoch 13/22\n",
            "\u001b[1m176/176\u001b[0m \u001b[32m━━━━━━━━━━━━━━━━━━━━\u001b[0m\u001b[37m\u001b[0m \u001b[1m442s\u001b[0m 2s/step - accuracy: 0.7578 - loss: 0.6431 - val_accuracy: 0.8002 - val_loss: 0.7131 - learning_rate: 0.0010\n",
            "Epoch 14/22\n",
            "\u001b[1m176/176\u001b[0m \u001b[32m━━━━━━━━━━━━━━━━━━━━\u001b[0m\u001b[37m\u001b[0m \u001b[1m443s\u001b[0m 3s/step - accuracy: 0.7789 - loss: 0.6088 - val_accuracy: 0.7648 - val_loss: 0.7001 - learning_rate: 0.0010\n",
            "Epoch 15/22\n",
            "\u001b[1m176/176\u001b[0m \u001b[32m━━━━━━━━━━━━━━━━━━━━\u001b[0m\u001b[37m\u001b[0m \u001b[1m456s\u001b[0m 3s/step - accuracy: 0.7772 - loss: 0.5987 - val_accuracy: 0.8018 - val_loss: 0.6862 - learning_rate: 0.0010\n",
            "Epoch 16/22\n",
            "\u001b[1m176/176\u001b[0m \u001b[32m━━━━━━━━━━━━━━━━━━━━\u001b[0m\u001b[37m\u001b[0m \u001b[1m487s\u001b[0m 3s/step - accuracy: 0.7846 - loss: 0.5982 - val_accuracy: 0.7812 - val_loss: 0.8177 - learning_rate: 0.0010\n",
            "Epoch 17/22\n",
            "\u001b[1m176/176\u001b[0m \u001b[32m━━━━━━━━━━━━━━━━━━━━\u001b[0m\u001b[37m\u001b[0m \u001b[1m424s\u001b[0m 2s/step - accuracy: 0.7808 - loss: 0.6166 - val_accuracy: 0.8306 - val_loss: 0.6308 - learning_rate: 0.0010\n",
            "Epoch 18/22\n",
            "\u001b[1m176/176\u001b[0m \u001b[32m━━━━━━━━━━━━━━━━━━━━\u001b[0m\u001b[37m\u001b[0m \u001b[1m507s\u001b[0m 3s/step - accuracy: 0.7941 - loss: 0.5620 - val_accuracy: 0.7936 - val_loss: 0.6365 - learning_rate: 0.0010\n",
            "Epoch 19/22\n",
            "\u001b[1m176/176\u001b[0m \u001b[32m━━━━━━━━━━━━━━━━━━━━\u001b[0m\u001b[37m\u001b[0m \u001b[1m437s\u001b[0m 2s/step - accuracy: 0.7943 - loss: 0.5424 - val_accuracy: 0.8166 - val_loss: 0.5759 - learning_rate: 0.0010\n",
            "Epoch 20/22\n",
            "\u001b[1m176/176\u001b[0m \u001b[32m━━━━━━━━━━━━━━━━━━━━\u001b[0m\u001b[37m\u001b[0m \u001b[1m443s\u001b[0m 3s/step - accuracy: 0.7915 - loss: 0.5668 - val_accuracy: 0.8002 - val_loss: 0.7277 - learning_rate: 0.0010\n",
            "Epoch 21/22\n",
            "\u001b[1m176/176\u001b[0m \u001b[32m━━━━━━━━━━━━━━━━━━━━\u001b[0m\u001b[37m\u001b[0m \u001b[1m451s\u001b[0m 3s/step - accuracy: 0.7792 - loss: 0.6235 - val_accuracy: 0.8388 - val_loss: 0.6044 - learning_rate: 0.0010\n",
            "Epoch 22/22\n",
            "\u001b[1m176/176\u001b[0m \u001b[32m━━━━━━━━━━━━━━━━━━━━\u001b[0m\u001b[37m\u001b[0m \u001b[1m497s\u001b[0m 3s/step - accuracy: 0.8026 - loss: 0.5196 - val_accuracy: 0.7952 - val_loss: 0.5598 - learning_rate: 0.0010\n",
            "Restoring model weights from the end of the best epoch: 22.\n"
          ]
        },
        {
          "output_type": "display_data",
          "data": {
            "text/plain": [
              "<Figure size 1200x500 with 2 Axes>"
            ],
            "image/png": "[encoded data removed]"
          },
          "metadata": {}
        }
      ],
      "source": [
        "# Define callbacks first\n",
        "from tensorflow.keras.callbacks import ReduceLROnPlateau, EarlyStopping\n",
        "\n",
        "reduce_lr = ReduceLROnPlateau(\n",
        "    monitor='val_loss',\n",
        "    factor=0.5,       # Reduce learning rate by half\n",
        "    patience=3,       # Wait for 3 epochs without improvement\n",
        "    verbose=1,        # Print messages when reducing LR\n",
        "    min_lr=1e-6       # Minimum learning rate\n",
        ")\n",
        "\n",
        "early_stop = EarlyStopping(\n",
        "    monitor='val_loss',\n",
        "    patience=5,        # Stop after 5 epochs without improvement\n",
        "    verbose=1,         # Print messages when stopping\n",
        "    restore_best_weights=True  # Keep the best model weights\n",
        ")\n",
        "\n",
        "# Train the model\n",
        "history_high_acc = high_acc_model.fit(\n",
        "    train_batches,          # Make sure this is your batched training data\n",
        "    validation_data=val_batches,  # Batched validation data\n",
        "    epochs=22,\n",
        "    callbacks=[reduce_lr, early_stop],\n",
        "    verbose=1               # Show progress bars\n",
        ")\n",
        "\n",
        "# Plot training history\n",
        "import matplotlib.pyplot as plt\n",
        "\n",
        "plt.figure(figsize=(12, 5))\n",
        "\n",
        "# Plot training & validation accuracy\n",
        "plt.subplot(1, 2, 1)\n",
        "plt.plot(history_high_acc.history['accuracy'])\n",
        "plt.plot(history_high_acc.history['val_accuracy'])\n",
        "plt.title('Model Accuracy')\n",
        "plt.ylabel('Accuracy')\n",
        "plt.xlabel('Epoch')\n",
        "plt.legend(['Train', 'Validation'], loc='upper left')\n",
        "\n",
        "# Plot training & validation loss\n",
        "plt.subplot(1, 2, 2)\n",
        "plt.plot(history_high_acc.history['loss'])\n",
        "plt.plot(history_high_acc.history['val_loss'])\n",
        "plt.title('Model Loss')\n",
        "plt.ylabel('Loss')\n",
        "plt.xlabel('Epoch')\n",
        "plt.legend(['Train', 'Validation'], loc='upper left')\n",
        "\n",
        "plt.tight_layout()\n",
        "plt.show()"
      ]
    },
    {
      "cell_type": "code",
      "source": [
        "# Save the trained model in HDF5 (.h5) format\n",
        "high_acc_model.save('high_accuracy_model.h5')\n"
      ],
      "metadata": {
        "colab": {
          "base_uri": "https://localhost:8080/"
        },
        "id": "38Q_ERpsg2R5",
        "outputId": "1fb35e11-128c-4495-c725-24d033482bb7"
      },
      "execution_count": null,
      "outputs": [
        {
          "output_type": "stream",
          "name": "stderr",
          "text": [
            "WARNING:absl:You are saving your model as an HDF5 file via `model.save()` or `keras.saving.save_model(model)`. This file format is considered legacy. We recommend using instead the native Keras format, e.g. `model.save('my_model.keras')` or `keras.saving.save_model(model, 'my_model.keras')`. \n"
          ]
        }
      ]
    },
    {
      "cell_type": "code",
      "source": [
        "# Save the trained model in HDF5 (.h5) format\n",
        "high_acc_model.save('high_accuracy_model.h5')\n"
      ],
      "metadata": {
        "colab": {
          "base_uri": "https://localhost:8080/"
        },
        "id": "rCkJPiE4g6OS",
        "outputId": "fcce4b71-6490-44b7-c409-920911179e33"
      },
      "execution_count": null,
      "outputs": [
        {
          "output_type": "stream",
          "name": "stderr",
          "text": [
            "WARNING:absl:You are saving your model as an HDF5 file via `model.save()` or `keras.saving.save_model(model)`. This file format is considered legacy. We recommend using instead the native Keras format, e.g. `model.save('my_model.keras')` or `keras.saving.save_model(model, 'my_model.keras')`. \n"
          ]
        }
      ]
    },
    {
      "cell_type": "markdown",
      "source": [
        "Here we calculated all the matrices such as AUC, Accuracy, BPCER, APCER, TDR, F1-Score, Precision, Recall and also Confusion matrix."
      ],
      "metadata": {
        "id": "J2yIRdzUv4zQ"
      }
    },
    {
      "cell_type": "code",
      "execution_count": 30,
      "metadata": {
        "colab": {
          "base_uri": "https://localhost:8080/",
          "height": 1000
        },
        "id": "PR8j0fJjMGax",
        "outputId": "80634a46-1b6e-47d1-b583-3da186d3d177"
      },
      "outputs": [
        {
          "output_type": "stream",
          "name": "stdout",
          "text": [
            "\u001b[1m37/37\u001b[0m \u001b[32m━━━━━━━━━━━━━━━━━━━━\u001b[0m\u001b[37m\u001b[0m \u001b[1m201s\u001b[0m 980ms/step - accuracy: 0.8232 - loss: 0.5595\n"
          ]
        },
        {
          "output_type": "stream",
          "name": "stderr",
          "text": [
            "/usr/local/lib/python3.11/dist-packages/keras/src/trainers/epoch_iterator.py:151: UserWarning: Your input ran out of data; interrupting training. Make sure that your dataset or generator can generate at least `steps_per_epoch * epochs` batches. You may need to use the `.repeat()` function when building your dataset.\n",
            "  self._interrupted_warning()\n"
          ]
        },
        {
          "output_type": "stream",
          "name": "stdout",
          "text": [
            "\n",
            "Basic Evaluation:\n",
            "Validation Loss: 0.5508\n",
            "Validation Accuracy: 0.8010\n",
            "\u001b[1m37/37\u001b[0m \u001b[32m━━━━━━━━━━━━━━━━━━━━\u001b[0m\u001b[37m\u001b[0m \u001b[1m216s\u001b[0m 962ms/step\n",
            "\n",
            "COMPREHENSIVE PERFORMANCE METRICS:\n",
            "==================================================\n",
            "Class     AUC     F1      Prec    Rec     BPCER   APCER   TDR     \n",
            "----------------------------------------------------------------------\n",
            "A+        0.9967  0.8843  0.9304  0.8425  0.0189  0.0630  0.8425\n",
            "A-        0.9758  0.7843  0.7035  0.8861  0.0175  0.3734  0.8861\n",
            "AB+       0.9933  0.8270  0.7157  0.9792  0.0029  0.3889  0.9792\n",
            "AB-       0.9870  0.8048  0.9439  0.7014  0.0413  0.0417  0.7014\n",
            "B+        0.9931  0.9158  0.9007  0.9315  0.0096  0.1027  0.9315\n",
            "B-        0.9941  0.8767  0.8889  0.8649  0.0193  0.1081  0.8649\n",
            "O+        0.9781  0.7483  0.8629  0.6605  0.0538  0.1049  0.6605\n",
            "O-        0.9809  0.7947  0.8163  0.7742  0.0340  0.1742  0.7742\n",
            "\n",
            "MACRO AVERAGES:\n",
            "AUC: 0.9874 | F1: 0.8295 | Precision: 0.8453 | Recall: 0.8300\n",
            "BPCER: 0.0247 | APCER: 0.1696 | TDR: 0.8300\n"
          ]
        },
        {
          "output_type": "display_data",
          "data": {
            "text/plain": [
              "<Figure size 1200x1000 with 2 Axes>"
            ],
            "image/png": "[encoded data removed]"
          },
          "metadata": {}
        }
      ],
      "source": [
        "import numpy as np\n",
        "from sklearn.metrics import (roc_auc_score, accuracy_score, f1_score,\n",
        "                           precision_score, recall_score, confusion_matrix)\n",
        "import matplotlib.pyplot as plt\n",
        "import seaborn as sns\n",
        "\n",
        "# 1. Basic Evaluation\n",
        "val_loss, val_acc = high_acc_model.evaluate(val_batches)\n",
        "print(f\"\\nBasic Evaluation:\")\n",
        "print(f\"Validation Loss: {val_loss:.4f}\")\n",
        "print(f\"Validation Accuracy: {val_acc:.4f}\")\n",
        "\n",
        "# 2. Get predictions and true labels\n",
        "val_preds = high_acc_model.predict(val_batches)\n",
        "val_pred_classes = np.argmax(val_preds, axis=1)\n",
        "val_true_labels = np.concatenate([y for x, y in val_batches], axis=0)\n",
        "\n",
        "# 3. Calculate all metrics\n",
        "n_classes = len(class_names)\n",
        "metrics = {\n",
        "    'AUC': [],\n",
        "    'F1-Score': [],\n",
        "    'Precision': [],\n",
        "    'Recall': [],\n",
        "    'BPCER': [],\n",
        "    'APCER': [],\n",
        "    'TDR': []\n",
        "}\n",
        "\n",
        "# Calculate confusion matrix\n",
        "cm = confusion_matrix(val_true_labels, val_pred_classes)\n",
        "\n",
        "# One-vs-Rest calculation for each class\n",
        "for i in range(n_classes):\n",
        "    # AUC\n",
        "    auc = roc_auc_score((val_true_labels == i).astype(int), val_preds[:, i])\n",
        "    metrics['AUC'].append(auc)\n",
        "\n",
        "    # Standard metrics\n",
        "    metrics['F1-Score'].append(f1_score(val_true_labels == i, val_pred_classes == i, zero_division=0))\n",
        "    metrics['Precision'].append(precision_score(val_true_labels == i, val_pred_classes == i, zero_division=0))\n",
        "    metrics['Recall'].append(recall_score(val_true_labels == i, val_pred_classes == i, zero_division=0))\n",
        "\n",
        "    # Security metrics\n",
        "    TP = cm[i,i]\n",
        "    FP = cm[:,i].sum() - TP\n",
        "    FN = cm[i,:].sum() - TP\n",
        "    TN = cm.sum() - TP - FP - FN\n",
        "\n",
        "    metrics['BPCER'].append(FN / (TN + FP + 1e-10))  # False Negative Rate\n",
        "    metrics['APCER'].append(FP / (TP + FN + 1e-10))  # False Positive Rate\n",
        "    metrics['TDR'].append(TP / (TP + FN + 1e-10))    # True Detection Rate (Recall)\n",
        "\n",
        "# 4. Print comprehensive report\n",
        "print(\"\\nCOMPREHENSIVE PERFORMANCE METRICS:\")\n",
        "print(\"=\"*50)\n",
        "print(f\"{'Class':<10}{'AUC':<8}{'F1':<8}{'Prec':<8}{'Rec':<8}{'BPCER':<8}{'APCER':<8}{'TDR':<8}\")\n",
        "print(\"-\"*70)\n",
        "for i, class_name in enumerate(class_names):\n",
        "    print(f\"{class_name:<10}{metrics['AUC'][i]:.4f}  {metrics['F1-Score'][i]:.4f}  \"\n",
        "          f\"{metrics['Precision'][i]:.4f}  {metrics['Recall'][i]:.4f}  \"\n",
        "          f\"{metrics['BPCER'][i]:.4f}  {metrics['APCER'][i]:.4f}  \"\n",
        "          f\"{metrics['TDR'][i]:.4f}\")\n",
        "\n",
        "# Macro averages\n",
        "print(\"\\nMACRO AVERAGES:\")\n",
        "print(f\"AUC: {np.mean(metrics['AUC']):.4f} | F1: {np.mean(metrics['F1-Score']):.4f} | \"\n",
        "      f\"Precision: {np.mean(metrics['Precision']):.4f} | Recall: {np.mean(metrics['Recall']):.4f}\")\n",
        "print(f\"BPCER: {np.mean(metrics['BPCER']):.4f} | APCER: {np.mean(metrics['APCER']):.4f} | \"\n",
        "      f\"TDR: {np.mean(metrics['TDR']):.4f}\")\n",
        "\n",
        "# 5. Confusion matrix visualization\n",
        "plt.figure(figsize=(12,10))\n",
        "sns.heatmap(cm, annot=True, fmt='d', cmap='Blues',\n",
        "            xticklabels=class_names,\n",
        "            yticklabels=class_names)\n",
        "plt.title('Confusion Matrix', fontsize=14)\n",
        "plt.xlabel('Predicted', fontsize=12)\n",
        "plt.ylabel('True', fontsize=12)\n",
        "plt.xticks(rotation=45)\n",
        "plt.yticks(rotation=0)\n",
        "plt.show()"
      ]
    },
    {
      "cell_type": "markdown",
      "metadata": {
        "id": "qHnYi2xaVC03"
      },
      "source": [
        "Convert the model to ONNX format and compare its performance.\n",
        "\n"
      ]
    },
    {
      "cell_type": "code",
      "source": [
        "!pip install tf2onnx onnx onnxruntime"
      ],
      "metadata": {
        "id": "hZv33xiHoEml",
        "colab": {
          "base_uri": "https://localhost:8080/",
          "height": 991
        },
        "outputId": "2a888337-e449-44e6-913e-a034fa4abb93"
      },
      "execution_count": 31,
      "outputs": [
        {
          "output_type": "stream",
          "name": "stdout",
          "text": [
            "Collecting tf2onnx\n",
            "  Downloading tf2onnx-1.16.1-py3-none-any.whl.metadata (1.3 kB)\n",
            "Collecting onnx\n",
            "  Downloading onnx-1.18.0-cp311-cp311-manylinux_2_17_x86_64.manylinux2014_x86_64.whl.metadata (6.9 kB)\n",
            "Collecting onnxruntime\n",
            "  Downloading onnxruntime-1.22.0-cp311-cp311-manylinux_2_27_x86_64.manylinux_2_28_x86_64.whl.metadata (4.5 kB)\n",
            "Requirement already satisfied: numpy>=1.14.1 in /usr/local/lib/python3.11/dist-packages (from tf2onnx) (2.0.2)\n",
            "Requirement already satisfied: requests in /usr/local/lib/python3.11/dist-packages (from tf2onnx) (2.32.3)\n",
            "Requirement already satisfied: six in /usr/local/lib/python3.11/dist-packages (from tf2onnx) (1.17.0)\n",
            "Requirement already satisfied: flatbuffers>=1.12 in /usr/local/lib/python3.11/dist-packages (from tf2onnx) (25.2.10)\n",
            "Collecting protobuf~=3.20 (from tf2onnx)\n",
            "  Downloading protobuf-3.20.3-py2.py3-none-any.whl.metadata (720 bytes)\n",
            "INFO: pip is looking at multiple versions of onnx to determine which version is compatible with other requirements. This could take a while.\n",
            "Collecting onnx\n",
            "  Downloading onnx-1.17.0-cp311-cp311-manylinux_2_17_x86_64.manylinux2014_x86_64.whl.metadata (16 kB)\n",
            "Collecting coloredlogs (from onnxruntime)\n",
            "  Downloading coloredlogs-15.0.1-py2.py3-none-any.whl.metadata (12 kB)\n",
            "Requirement already satisfied: packaging in /usr/local/lib/python3.11/dist-packages (from onnxruntime) (24.2)\n",
            "Requirement already satisfied: sympy in /usr/local/lib/python3.11/dist-packages (from onnxruntime) (1.13.1)\n",
            "Collecting humanfriendly>=9.1 (from coloredlogs->onnxruntime)\n",
            "  Downloading humanfriendly-10.0-py2.py3-none-any.whl.metadata (9.2 kB)\n",
            "Requirement already satisfied: charset-normalizer<4,>=2 in /usr/local/lib/python3.11/dist-packages (from requests->tf2onnx) (3.4.2)\n",
            "Requirement already satisfied: idna<4,>=2.5 in /usr/local/lib/python3.11/dist-packages (from requests->tf2onnx) (3.10)\n",
            "Requirement already satisfied: urllib3<3,>=1.21.1 in /usr/local/lib/python3.11/dist-packages (from requests->tf2onnx) (2.4.0)\n",
            "Requirement already satisfied: certifi>=2017.4.17 in /usr/local/lib/python3.11/dist-packages (from requests->tf2onnx) (2025.4.26)\n",
            "Requirement already satisfied: mpmath<1.4,>=1.1.0 in /usr/local/lib/python3.11/dist-packages (from sympy->onnxruntime) (1.3.0)\n",
            "Downloading tf2onnx-1.16.1-py3-none-any.whl (455 kB)\n",
            "\u001b[2K   \u001b[90m━━━━━━━━━━━━━━━━━━━━━━━━━━━━━━━━━━━━━━━━\u001b[0m \u001b[32m455.8/455.8 kB\u001b[0m \u001b[31m14.6 MB/s\u001b[0m eta \u001b[36m0:00:00\u001b[0m\n",
            "\u001b[?25hDownloading onnx-1.17.0-cp311-cp311-manylinux_2_17_x86_64.manylinux2014_x86_64.whl (16.0 MB)\n",
            "\u001b[2K   \u001b[90m━━━━━━━━━━━━━━━━━━━━━━━━━━━━━━━━━━━━━━━━\u001b[0m \u001b[32m16.0/16.0 MB\u001b[0m \u001b[31m92.1 MB/s\u001b[0m eta \u001b[36m0:00:00\u001b[0m\n",
            "\u001b[?25hDownloading onnxruntime-1.22.0-cp311-cp311-manylinux_2_27_x86_64.manylinux_2_28_x86_64.whl (16.4 MB)\n",
            "\u001b[2K   \u001b[90m━━━━━━━━━━━━━━━━━━━━━━━━━━━━━━━━━━━━━━━━\u001b[0m \u001b[32m16.4/16.4 MB\u001b[0m \u001b[31m91.4 MB/s\u001b[0m eta \u001b[36m0:00:00\u001b[0m\n",
            "\u001b[?25hDownloading protobuf-3.20.3-py2.py3-none-any.whl (162 kB)\n",
            "\u001b[2K   \u001b[90m━━━━━━━━━━━━━━━━━━━━━━━━━━━━━━━━━━━━━━━━\u001b[0m \u001b[32m162.1/162.1 kB\u001b[0m \u001b[31m11.2 MB/s\u001b[0m eta \u001b[36m0:00:00\u001b[0m\n",
            "\u001b[?25hDownloading coloredlogs-15.0.1-py2.py3-none-any.whl (46 kB)\n",
            "\u001b[2K   \u001b[90m━━━━━━━━━━━━━━━━━━━━━━━━━━━━━━━━━━━━━━━━\u001b[0m \u001b[32m46.0/46.0 kB\u001b[0m \u001b[31m2.8 MB/s\u001b[0m eta \u001b[36m0:00:00\u001b[0m\n",
            "\u001b[?25hDownloading humanfriendly-10.0-py2.py3-none-any.whl (86 kB)\n",
            "\u001b[2K   \u001b[90m━━━━━━━━━━━━━━━━━━━━━━━━━━━━━━━━━━━━━━━━\u001b[0m \u001b[32m86.8/86.8 kB\u001b[0m \u001b[31m6.2 MB/s\u001b[0m eta \u001b[36m0:00:00\u001b[0m\n",
            "\u001b[?25hInstalling collected packages: protobuf, humanfriendly, onnx, coloredlogs, tf2onnx, onnxruntime\n",
            "  Attempting uninstall: protobuf\n",
            "    Found existing installation: protobuf 5.29.4\n",
            "    Uninstalling protobuf-5.29.4:\n",
            "      Successfully uninstalled protobuf-5.29.4\n",
            "\u001b[31mERROR: pip's dependency resolver does not currently take into account all the packages that are installed. This behaviour is the source of the following dependency conflicts.\n",
            "tensorflow-metadata 1.17.1 requires protobuf<6.0.0,>=4.25.2; python_version >= \"3.11\", but you have protobuf 3.20.3 which is incompatible.\n",
            "ydf 0.11.0 requires protobuf<6.0.0,>=5.29.1, but you have protobuf 3.20.3 which is incompatible.\n",
            "grpcio-status 1.71.0 requires protobuf<6.0dev,>=5.26.1, but you have protobuf 3.20.3 which is incompatible.\u001b[0m\u001b[31m\n",
            "\u001b[0mSuccessfully installed coloredlogs-15.0.1 humanfriendly-10.0 onnx-1.17.0 onnxruntime-1.22.0 protobuf-3.20.3 tf2onnx-1.16.1\n"
          ]
        },
        {
          "output_type": "display_data",
          "data": {
            "application/vnd.colab-display-data+json": {
              "pip_warning": {
                "packages": [
                  "google"
                ]
              },
              "id": "66b2f5db854540ffaff81cbf9d8e0db2"
            }
          },
          "metadata": {}
        }
      ]
    },
    {
      "cell_type": "code",
      "source": [
        "import onnx\n"
      ],
      "metadata": {
        "id": "uBQj1nEdgSOW"
      },
      "execution_count": 33,
      "outputs": []
    },
    {
      "cell_type": "markdown",
      "source": [
        "Here i have Convereted the model to ONNX"
      ],
      "metadata": {
        "id": "BKbGw34gwbwv"
      }
    },
    {
      "cell_type": "code",
      "execution_count": 34,
      "metadata": {
        "colab": {
          "base_uri": "https://localhost:8080/"
        },
        "id": "KPIhkIo-VJBa",
        "outputId": "0b41e79e-23a1-481c-b099-dd4526d51d3b"
      },
      "outputs": [
        {
          "output_type": "stream",
          "name": "stderr",
          "text": [
            "ERROR:tf2onnx.tfonnx:rewriter <function rewrite_constant_fold at 0x7992e45019e0>: exception `np.cast` was removed in the NumPy 2.0 release. Use `np.asarray(arr, dtype=dtype)` instead.\n"
          ]
        },
        {
          "output_type": "stream",
          "name": "stdout",
          "text": [
            "✅ Conversion successful!\n"
          ]
        }
      ],
      "source": [
        "import tensorflow as tf\n",
        "import tf2onnx\n",
        "\n",
        "# Convert Sequential model to Functional API format\n",
        "input_layer = tf.keras.layers.Input(shape=(64, 64, 3))\n",
        "functional_model = tf.keras.models.Model(\n",
        "    inputs=input_layer,\n",
        "    outputs=high_acc_model(input_layer)\n",
        ")\n",
        "\n",
        "# Now convert to ONNX\n",
        "onnx_model, _ = tf2onnx.convert.from_keras(\n",
        "    functional_model,\n",
        "    input_signature=[tf.TensorSpec(shape=(None, 64, 64, 3), dtype=tf.float32)],\n",
        "    opset=13\n",
        ")\n",
        "\n",
        "# Save the model\n",
        "onnx.save(onnx_model, \"blood_group_classifier.onnx\")\n",
        "print(\"✅ Conversion successful!\")"
      ]
    },
    {
      "cell_type": "code",
      "execution_count": 35,
      "metadata": {
        "colab": {
          "base_uri": "https://localhost:8080/"
        },
        "id": "MSn0sAEfVW93",
        "outputId": "19f8efd9-4749-45dc-90e5-8f5816b3f0a0"
      },
      "outputs": [
        {
          "output_type": "stream",
          "name": "stdout",
          "text": [
            "ONNX model input: args_0\n",
            "ONNX model output: sequential\n"
          ]
        }
      ],
      "source": [
        "import onnxruntime as ort\n",
        "\n",
        "# Load the ONNX model\n",
        "ort_session = ort.InferenceSession(\"blood_group_classifier.onnx\")\n",
        "print(\"ONNX model input:\", ort_session.get_inputs()[0].name)\n",
        "print(\"ONNX model output:\", ort_session.get_outputs()[0].name)"
      ]
    },
    {
      "cell_type": "code",
      "execution_count": 36,
      "metadata": {
        "id": "90jyIsI4VxCh",
        "colab": {
          "base_uri": "https://localhost:8080/"
        },
        "outputId": "8517483b-9e41-4621-f691-10b3df75c1e5"
      },
      "outputs": [
        {
          "output_type": "stream",
          "name": "stdout",
          "text": [
            "\u001b[1m1/1\u001b[0m \u001b[32m━━━━━━━━━━━━━━━━━━━━\u001b[0m\u001b[37m\u001b[0m \u001b[1m0s\u001b[0m 198ms/step\n",
            "TensorFlow Inference Time: 0.3360s\n",
            "ONNX Inference Time: 0.0045s\n",
            "Speedup: 75.18x\n"
          ]
        }
      ],
      "source": [
        "import time\n",
        "import numpy as np\n",
        "\n",
        "# Test data (use your test_batches)\n",
        "sample_images, _ = next(iter(test_batches))\n",
        "sample_image = sample_images[0:1]  # Take one image\n",
        "\n",
        "# TensorFlow Inference\n",
        "start_time = time.time()\n",
        "tf_output = high_acc_model.predict(sample_image)\n",
        "tf_time = time.time() - start_time\n",
        "\n",
        "# ONNX Inference\n",
        "ort_session = ort.InferenceSession(\"blood_group_classifier.onnx\")\n",
        "input_name = ort_session.get_inputs()[0].name\n",
        "\n",
        "start_time = time.time()\n",
        "onnx_output = ort_session.run(None, {input_name: sample_image.numpy()})[0]\n",
        "onnx_time = time.time() - start_time\n",
        "\n",
        "print(f\"TensorFlow Inference Time: {tf_time:.4f}s\")\n",
        "print(f\"ONNX Inference Time: {onnx_time:.4f}s\")\n",
        "print(f\"Speedup: {tf_time/onnx_time:.2f}x\")"
      ]
    },
    {
      "cell_type": "markdown",
      "source": [
        "Here i have compared the parametes such as AUC, Recall, Accurracy, F1 Score, APCER, BPCER, TDR and Precision of the Tensor-flow model and ONNX and calculated the difference between them."
      ],
      "metadata": {
        "id": "oOq9nR-VwntY"
      }
    },
    {
      "cell_type": "code",
      "source": [
        "import numpy as np\n",
        "from sklearn.metrics import (roc_auc_score, accuracy_score, f1_score,\n",
        "                           precision_score, recall_score, confusion_matrix)\n",
        "import pandas as pd\n",
        "\n",
        "def calculate_metrics(model, dataset, is_onnx=False, input_name=None):\n",
        "    \"\"\"Calculate all metrics for either TensorFlow or ONNX model\"\"\"\n",
        "    y_true = []\n",
        "    y_pred = []\n",
        "    y_scores = []\n",
        "\n",
        "    for images, labels in dataset:\n",
        "        y_true.extend(labels.numpy())\n",
        "\n",
        "        if is_onnx:  # ONNX model\n",
        "            ort_session = model\n",
        "            outputs = ort_session.run(None, {input_name: images.numpy()})[0]\n",
        "            y_scores.extend(outputs)\n",
        "            y_pred.extend(np.argmax(outputs, axis=1))\n",
        "        else:  # TensorFlow model\n",
        "            outputs = model.predict(images, verbose=0)\n",
        "            y_scores.extend(outputs)\n",
        "            y_pred.extend(np.argmax(outputs, axis=1))\n",
        "\n",
        "    y_true = np.array(y_true)\n",
        "    y_pred = np.array(y_pred)\n",
        "    y_scores = np.array(y_scores)\n",
        "\n",
        "    # One-vs-Rest calculation for multi-class\n",
        "    n_classes = len(class_names)\n",
        "    metrics = {\n",
        "        'AUC': [],\n",
        "        'Accuracy': accuracy_score(y_true, y_pred),\n",
        "        'F1-Score': [],\n",
        "        'Precision': [],\n",
        "        'Recall': [],\n",
        "        'BPCER': [],\n",
        "        'APCER': [],\n",
        "        'TDR': []\n",
        "    }\n",
        "\n",
        "    # Calculate confusion matrix\n",
        "    cm = confusion_matrix(y_true, y_pred)\n",
        "\n",
        "    for i in range(n_classes):\n",
        "        # AUC (One-vs-Rest)\n",
        "        metrics['AUC'].append(roc_auc_score((y_true == i).astype(int), y_scores[:, i]))\n",
        "\n",
        "        # Standard metrics\n",
        "        metrics['F1-Score'].append(f1_score(y_true == i, y_pred == i, zero_division=0))\n",
        "        metrics['Precision'].append(precision_score(y_true == i, y_pred == i, zero_division=0))\n",
        "        metrics['Recall'].append(recall_score(y_true == i, y_pred == i, zero_division=0))\n",
        "\n",
        "        # Security metrics\n",
        "        TP = cm[i,i]\n",
        "        FP = cm[:,i].sum() - TP\n",
        "        FN = cm[i,:].sum() - TP\n",
        "        TN = cm.sum() - TP - FP - FN\n",
        "\n",
        "        metrics['BPCER'].append(FN / (TN + FP + 1e-10))  # False Negative Rate\n",
        "        metrics['APCER'].append(FP / (TP + FN + 1e-10))   # False Positive Rate\n",
        "        metrics['TDR'].append(TP / (TP + FN + 1e-10))     # True Detection Rate\n",
        "\n",
        "    # Convert lists to averages\n",
        "    for k in ['AUC', 'F1-Score', 'Precision', 'Recall', 'BPCER', 'APCER', 'TDR']:\n",
        "        metrics[k] = np.mean(metrics[k])\n",
        "\n",
        "    return metrics\n",
        "\n",
        "# Calculate for both models\n",
        "tf_metrics = calculate_metrics(high_acc_model, test_batches)\n",
        "onnx_metrics = calculate_metrics(ort_session, test_batches, is_onnx=True,\n",
        "                                input_name=ort_session.get_inputs()[0].name)\n",
        "\n",
        "# Create comparison table\n",
        "comparison = pd.DataFrame({\n",
        "    'Metric': ['AUC', 'Accuracy', 'F1-Score', 'Precision', 'Recall',\n",
        "               'BPCER', 'APCER', 'TDR'],\n",
        "    'TensorFlow': [tf_metrics[k] for k in ['AUC', 'Accuracy', 'F1-Score',\n",
        "                                         'Precision', 'Recall',\n",
        "                                         'BPCER', 'APCER', 'TDR']],\n",
        "    'ONNX': [onnx_metrics[k] for k in ['AUC', 'Accuracy', 'F1-Score',\n",
        "                                      'Precision', 'Recall',\n",
        "                                      'BPCER', 'APCER', 'TDR']]\n",
        "})\n",
        "\n",
        "# Calculate absolute differences\n",
        "comparison['Difference'] = np.abs(comparison['TensorFlow'] - comparison['ONNX'])\n",
        "\n",
        "print(comparison.round(4))"
      ],
      "metadata": {
        "colab": {
          "base_uri": "https://localhost:8080/"
        },
        "id": "4VCCzDLGlY-d",
        "outputId": "f569c118-bcf8-482b-ed66-e260e8b85cf4"
      },
      "execution_count": 37,
      "outputs": [
        {
          "output_type": "stream",
          "name": "stdout",
          "text": [
            "      Metric  TensorFlow    ONNX  Difference\n",
            "0        AUC      0.9844  0.9844      0.0000\n",
            "1   Accuracy      0.8049  0.8057      0.0008\n",
            "2   F1-Score      0.7950  0.7950      0.0000\n",
            "3  Precision      0.8101  0.8107      0.0006\n",
            "4     Recall      0.8027  0.8019      0.0008\n",
            "5      BPCER      0.0280  0.0279      0.0002\n",
            "6      APCER      0.2230  0.2213      0.0017\n",
            "7        TDR      0.8027  0.8019      0.0008\n"
          ]
        }
      ]
    },
    {
      "cell_type": "markdown",
      "source": [
        "Convert the model to TensorFlow Lite (TFLite) format\n",
        "\n"
      ],
      "metadata": {
        "id": "kQvwbFPKl1ZP"
      }
    },
    {
      "cell_type": "code",
      "source": [
        "import tensorflow as tf\n",
        "\n",
        "# Convert to TFLite format\n",
        "converter = tf.lite.TFLiteConverter.from_keras_model(high_acc_model)\n",
        "tflite_model = converter.convert()\n",
        "\n",
        "# Save the model\n",
        "with open(\"blood_group_classifier.tflite\", \"wb\") as f:\n",
        "    f.write(tflite_model)\n",
        "\n",
        "print(\"✅ TFLite conversion successful!\")\n"
      ],
      "metadata": {
        "colab": {
          "base_uri": "https://localhost:8080/"
        },
        "id": "xrQ85twrjIAF",
        "outputId": "8c15f3f6-13f3-4880-da3c-067b86fc337e"
      },
      "execution_count": 38,
      "outputs": [
        {
          "output_type": "stream",
          "name": "stdout",
          "text": [
            "Saved artifact at '/tmp/tmpg8ot_aqy'. The following endpoints are available:\n",
            "\n",
            "* Endpoint 'serve'\n",
            "  args_0 (POSITIONAL_ONLY): TensorSpec(shape=(None, 64, 64, 3), dtype=tf.float32, name='keras_tensor')\n",
            "Output Type:\n",
            "  TensorSpec(shape=(None, 8), dtype=tf.float32, name=None)\n",
            "Captures:\n",
            "  133672071149712: TensorSpec(shape=(), dtype=tf.resource, name=None)\n",
            "  133672071146064: TensorSpec(shape=(), dtype=tf.resource, name=None)\n",
            "  133672071150864: TensorSpec(shape=(), dtype=tf.resource, name=None)\n",
            "  133672071149520: TensorSpec(shape=(), dtype=tf.resource, name=None)\n",
            "  133672073037392: TensorSpec(shape=(), dtype=tf.resource, name=None)\n",
            "  133672073039120: TensorSpec(shape=(), dtype=tf.resource, name=None)\n",
            "  133672073039504: TensorSpec(shape=(), dtype=tf.resource, name=None)\n",
            "  133672073041040: TensorSpec(shape=(), dtype=tf.resource, name=None)\n",
            "  133672073040848: TensorSpec(shape=(), dtype=tf.resource, name=None)\n",
            "  133672073041616: TensorSpec(shape=(), dtype=tf.resource, name=None)\n",
            "  133672073039696: TensorSpec(shape=(), dtype=tf.resource, name=None)\n",
            "  133672073042384: TensorSpec(shape=(), dtype=tf.resource, name=None)\n",
            "  133672073041808: TensorSpec(shape=(), dtype=tf.resource, name=None)\n",
            "  133672073043152: TensorSpec(shape=(), dtype=tf.resource, name=None)\n",
            "✅ TFLite conversion successful!\n"
          ]
        }
      ]
    },
    {
      "cell_type": "code",
      "source": [
        "import numpy as np\n",
        "import time\n",
        "\n",
        "# Load TFLite model\n",
        "interpreter = tf.lite.Interpreter(model_path=\"blood_group_classifier.tflite\")\n",
        "interpreter.allocate_tensors()\n",
        "\n",
        "# Get input and output tensors\n",
        "input_details = interpreter.get_input_details()\n",
        "output_details = interpreter.get_output_details()\n",
        "\n",
        "# Prepare a sample image\n",
        "sample_images, _ = next(iter(test_batches))\n",
        "sample_image = sample_images[0:1].numpy().astype(np.float32)\n",
        "\n",
        "# Set input tensor\n",
        "interpreter.set_tensor(input_details[0]['index'], sample_image)\n",
        "\n",
        "# Run inference\n",
        "start_time = time.time()\n",
        "interpreter.invoke()\n",
        "tflite_output = interpreter.get_tensor(output_details[0]['index'])\n",
        "tflite_time = time.time() - start_time\n",
        "\n",
        "print(f\"TFLite Inference Time: {tflite_time:.4f}s\")\n"
      ],
      "metadata": {
        "colab": {
          "base_uri": "https://localhost:8080/"
        },
        "id": "jLXJxWiGjSi9",
        "outputId": "593aa682-1a77-448e-ad16-00bf126fda72"
      },
      "execution_count": 39,
      "outputs": [
        {
          "output_type": "stream",
          "name": "stdout",
          "text": [
            "TFLite Inference Time: 0.0204s\n"
          ]
        }
      ]
    },
    {
      "cell_type": "code",
      "source": [
        "# TensorFlow Inference\n",
        "start_time = time.time()\n",
        "tf_output = high_acc_model.predict(sample_image)\n",
        "tf_time = time.time() - start_time\n",
        "\n",
        "# ONNX Inference\n",
        "import onnxruntime as ort\n",
        "ort_session = ort.InferenceSession(\"blood_group_classifier.onnx\")\n",
        "input_name = ort_session.get_inputs()[0].name\n",
        "start_time = time.time()\n",
        "onnx_output = ort_session.run(None, {input_name: sample_image})[0]\n",
        "onnx_time = time.time() - start_time\n",
        "\n",
        "# Final comparison\n",
        "print(f\"TensorFlow Inference Time: {tf_time:.4f}s\")\n",
        "print(f\"ONNX Inference Time: {onnx_time:.4f}s\")\n",
        "print(f\"TFLite Inference Time: {tflite_time:.4f}s\")\n",
        "print(f\"ONNX Speedup: {tf_time/onnx_time:.2f}x\")\n",
        "print(f\"TFLite Speedup: {tf_time/tflite_time:.2f}x\")\n"
      ],
      "metadata": {
        "colab": {
          "base_uri": "https://localhost:8080/"
        },
        "id": "In2cQFOukJjP",
        "outputId": "add869a6-5ebd-4966-f953-b4a991edabd8"
      },
      "execution_count": 40,
      "outputs": [
        {
          "output_type": "stream",
          "name": "stdout",
          "text": [
            "\u001b[1m1/1\u001b[0m \u001b[32m━━━━━━━━━━━━━━━━━━━━\u001b[0m\u001b[37m\u001b[0m \u001b[1m0s\u001b[0m 53ms/step\n",
            "TensorFlow Inference Time: 0.1312s\n",
            "ONNX Inference Time: 0.0050s\n",
            "TFLite Inference Time: 0.0204s\n",
            "ONNX Speedup: 26.20x\n",
            "TFLite Speedup: 6.43x\n"
          ]
        }
      ]
    },
    {
      "cell_type": "code",
      "source": [
        "def calculate_metrics_tflite(interpreter, dataset):\n",
        "    input_details = interpreter.get_input_details()\n",
        "    output_details = interpreter.get_output_details()\n",
        "\n",
        "    y_true = []\n",
        "    y_pred = []\n",
        "    y_scores = []\n",
        "\n",
        "    for images, labels in dataset:\n",
        "        y_true.extend(labels.numpy())\n",
        "        for img in images:\n",
        "            img = np.expand_dims(img.numpy().astype(np.float32), axis=0)\n",
        "            interpreter.set_tensor(input_details[0]['index'], img)\n",
        "            interpreter.invoke()\n",
        "            pred = interpreter.get_tensor(output_details[0]['index'])[0]\n",
        "            y_scores.append(pred)\n",
        "            y_pred.append(np.argmax(pred))\n",
        "\n",
        "    y_true = np.array(y_true)\n",
        "    y_pred = np.array(y_pred)\n",
        "    y_scores = np.array(y_scores)\n",
        "\n",
        "    n_classes = len(class_names)\n",
        "    metrics = {\n",
        "        'AUC': [],\n",
        "        'Accuracy': accuracy_score(y_true, y_pred),\n",
        "        'F1-Score': [],\n",
        "        'Precision': [],\n",
        "        'Recall': [],\n",
        "        'BPCER': [],\n",
        "        'APCER': [],\n",
        "        'TDR': []\n",
        "    }\n",
        "\n",
        "    cm = confusion_matrix(y_true, y_pred)\n",
        "\n",
        "    for i in range(n_classes):\n",
        "        metrics['AUC'].append(roc_auc_score((y_true == i).astype(int), y_scores[:, i]))\n",
        "        metrics['F1-Score'].append(f1_score(y_true == i, y_pred == i, zero_division=0))\n",
        "        metrics['Precision'].append(precision_score(y_true == i, y_pred == i, zero_division=0))\n",
        "        metrics['Recall'].append(recall_score(y_true == i, y_pred == i, zero_division=0))\n",
        "\n",
        "        TP = cm[i,i]\n",
        "        FP = cm[:,i].sum() - TP\n",
        "        FN = cm[i,:].sum() - TP\n",
        "        TN = cm.sum() - TP - FP - FN\n",
        "\n",
        "        metrics['BPCER'].append(FN / (TN + FP + 1e-10))\n",
        "        metrics['APCER'].append(FP / (TP + FN + 1e-10))\n",
        "        metrics['TDR'].append(TP / (TP + FN + 1e-10))\n",
        "\n",
        "    for k in ['AUC', 'F1-Score', 'Precision', 'Recall', 'BPCER', 'APCER', 'TDR']:\n",
        "        metrics[k] = np.mean(metrics[k])\n",
        "\n",
        "    return metrics\n"
      ],
      "metadata": {
        "id": "1fKq5GROkc8G"
      },
      "execution_count": 41,
      "outputs": []
    },
    {
      "cell_type": "code",
      "source": [
        "interpreter = tf.lite.Interpreter(model_path=\"blood_group_classifier.tflite\")\n",
        "interpreter.allocate_tensors()\n",
        "\n",
        "tflite_metrics = calculate_metrics_tflite(interpreter, test_batches)\n"
      ],
      "metadata": {
        "id": "yUvBtyrnki0G"
      },
      "execution_count": 42,
      "outputs": []
    },
    {
      "cell_type": "markdown",
      "source": [
        "Comparisons between ONNX and TFlite based on parameters such as AUC,Accuracy,F1-Score, Precision, Recall, APCER, BPCER and TDR. here the Δ ONNX define as the absolute difference between (TensorFlow and ONNX) and Δ TFLite define as the absolute difference between(TensorFlow and Tflite)"
      ],
      "metadata": {
        "id": "pjrLXQSumHuH"
      }
    },
    {
      "cell_type": "code",
      "source": [
        "comparison = pd.DataFrame({\n",
        "    'Metric': ['AUC', 'Accuracy', 'F1-Score', 'Precision', 'Recall',\n",
        "               'BPCER', 'APCER', 'TDR'],\n",
        "    'TensorFlow': [tf_metrics[k] for k in ['AUC', 'Accuracy', 'F1-Score',\n",
        "                                           'Precision', 'Recall',\n",
        "                                           'BPCER', 'APCER', 'TDR']],\n",
        "    'ONNX': [onnx_metrics[k] for k in ['AUC', 'Accuracy', 'F1-Score',\n",
        "                                       'Precision', 'Recall',\n",
        "                                       'BPCER', 'APCER', 'TDR']],\n",
        "    'TFLite': [tflite_metrics[k] for k in ['AUC', 'Accuracy', 'F1-Score',\n",
        "                                           'Precision', 'Recall',\n",
        "                                           'BPCER', 'APCER', 'TDR']],\n",
        "})\n",
        "\n",
        "# Optional: Differences from TensorFlow\n",
        "comparison['Δ ONNX'] = np.abs(comparison['TensorFlow'] - comparison['ONNX'])\n",
        "comparison['Δ TFLite'] = np.abs(comparison['TensorFlow'] - comparison['TFLite'])\n",
        "\n",
        "print(comparison.round(4))\n"
      ],
      "metadata": {
        "colab": {
          "base_uri": "https://localhost:8080/"
        },
        "id": "dta6pOiDknko",
        "outputId": "329f6ebd-99c4-48b0-9efb-148530ed3a42"
      },
      "execution_count": 43,
      "outputs": [
        {
          "output_type": "stream",
          "name": "stdout",
          "text": [
            "      Metric  TensorFlow    ONNX  TFLite  Δ ONNX  Δ TFLite\n",
            "0        AUC      0.9844  0.9844  0.9845  0.0000    0.0001\n",
            "1   Accuracy      0.8049  0.8057  0.8108  0.0008    0.0059\n",
            "2   F1-Score      0.7950  0.7950  0.8019  0.0000    0.0068\n",
            "3  Precision      0.8101  0.8107  0.8153  0.0006    0.0052\n",
            "4     Recall      0.8027  0.8019  0.8093  0.0008    0.0065\n",
            "5      BPCER      0.0280  0.0279  0.0272  0.0002    0.0008\n",
            "6      APCER      0.2230  0.2213  0.2158  0.0017    0.0072\n",
            "7        TDR      0.8027  0.8019  0.8093  0.0008    0.0065\n"
          ]
        }
      ]
    },
    {
      "cell_type": "markdown",
      "source": [
        " Comparisons between all three (Tensorflow, ONNX, TFlite) based on certain parameters which are following\n",
        " AUC\n",
        "\n",
        "Accuracy\n",
        "\n",
        "BPCER\n",
        "\n",
        "APCER\n",
        "\n",
        "TDR\n",
        "\n",
        "F1-Score\n",
        "\n",
        "Precision\n",
        "\n",
        "Recall"
      ],
      "metadata": {
        "id": "RTpP_BVBmSlH"
      }
    },
    {
      "cell_type": "code",
      "source": [
        "import pandas as pd\n",
        "import numpy as np\n",
        "\n",
        "# List of evaluation metrics\n",
        "metric_names = ['AUC', 'Accuracy', 'F1-Score', 'Precision', 'Recall',\n",
        "                'BPCER', 'APCER', 'TDR']\n",
        "\n",
        "# Construct comparison DataFrame\n",
        "comparison_df = pd.DataFrame({\n",
        "    'Metric': metric_names,\n",
        "    'TensorFlow': [tf_metrics[m] for m in metric_names],\n",
        "    'ONNX': [onnx_metrics[m] for m in metric_names],\n",
        "    'TFLite': [tflite_metrics[m] for m in metric_names],\n",
        "})\n",
        "\n",
        "# Optionally add differences from TensorFlow\n",
        "comparison_df['Δ ONNX (abs)'] = np.abs(comparison_df['TensorFlow'] - comparison_df['ONNX'])\n",
        "comparison_df['Δ TFLite (abs)'] = np.abs(comparison_df['TensorFlow'] - comparison_df['TFLite'])\n",
        "\n",
        "# Round for cleaner presentation\n",
        "print(comparison_df.round(4))\n"
      ],
      "metadata": {
        "colab": {
          "base_uri": "https://localhost:8080/"
        },
        "id": "_Jv4ois2k6Xm",
        "outputId": "2b2e3084-55f5-4624-e3f4-635ee5dadc61"
      },
      "execution_count": 44,
      "outputs": [
        {
          "output_type": "stream",
          "name": "stdout",
          "text": [
            "      Metric  TensorFlow    ONNX  TFLite  Δ ONNX (abs)  Δ TFLite (abs)\n",
            "0        AUC      0.9844  0.9844  0.9845        0.0000          0.0001\n",
            "1   Accuracy      0.8049  0.8057  0.8108        0.0008          0.0059\n",
            "2   F1-Score      0.7950  0.7950  0.8019        0.0000          0.0068\n",
            "3  Precision      0.8101  0.8107  0.8153        0.0006          0.0052\n",
            "4     Recall      0.8027  0.8019  0.8093        0.0008          0.0065\n",
            "5      BPCER      0.0280  0.0279  0.0272        0.0002          0.0008\n",
            "6      APCER      0.2230  0.2213  0.2158        0.0017          0.0072\n",
            "7        TDR      0.8027  0.8019  0.8093        0.0008          0.0065\n"
          ]
        }
      ]
    }
  ],
  "metadata": {
    "accelerator": "GPU",
    "colab": {
      "gpuType": "T4",
      "provenance": []
    },
    "kernelspec": {
      "display_name": "Python 3",
      "name": "python3"
    },
    "language_info": {
      "name": "python"
    }
  },
  "nbformat": 4,
  "nbformat_minor": 0
}